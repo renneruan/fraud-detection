{
 "cells": [
  {
   "cell_type": "markdown",
   "metadata": {},
   "source": [
    "# Entendimento do Negócio"
   ]
  },
  {
   "cell_type": "markdown",
   "metadata": {},
   "source": [
    "Este notebook tem como objetivo apresentar o contexto de negócio e a motivação para a análise e predição dos casos de fraude de cartões de crédito."
   ]
  },
  {
   "cell_type": "markdown",
   "metadata": {},
   "source": [
    "A facilidade de uso do cartão de crédito é visível e de senso comum para a maioria dos brasileiros. Com a crescente oferta de lojas onlines, programas de assinatura e benefícios atrelados ao uso do cartão, associar o uso do cartão de crédito ao dia a dia se torna quase institivo para segmentos da população. Um levantamento realizado em 2024 estimou-se que havia 212 milhões de cartões de crédito no brasil, sendo este número o dobro da população ocupada [^1]. Estimou-se também que cada brasileiro possui mais de um único cartão[^2], tais números somados a más práticas de segurança da informação realizadas, como vazamento de dados, compartilhamento e utilização de cartões em sites suspeitos alavanca o número de possibilidade de fraudes e golpes financeiros a serem realizados.\n",
    "\n",
    "<center>\n",
    "    <img src=\"../assets/man_with_card.jpg\" width=\"300\"/>\n",
    "</center>\n",
    "\n",
    "Em 2023 ocorreram 3,7 milhões de tentativas de fraude, totalizando em uma quantia de R$ 3,5 bilhões[^3]. Tais números acendem o alerta de como as empresas de cartão devem melhorar cada vez mais seus sistemas de detecção de fraudes. Os avanços da Inteligência Artificial e práticas de Machine Learning são de extrema valia para a redução desses números, garantindo segurança nas transações e evitando que os clientes sofram com tais tentativas caso estas sejam bem sucedidas.\n",
    "\n",
    "[^1]: [País já tem mais que dois cartões de crédito para cada brasileiro que trabalha, O Globo, Acessado em 16/01/2025 às 21:09](https://example.com)\\\n",
    "[^2]: [29\\% dos brasileiros têm cinco ou mais cartões, Exame, Acessado em 16/01/2025 às 21:09](https://exame.com/invest/minhas-financas/brasileiros-cinco-cartoes-credito/).\\\n",
    "[^3]: [Brasil registra R$ 3,5 bi em tentativas de fraude, Valor Investe, Acessado em 16/01/2025 às 21:09](https://valorinveste.globo.com/produtos/servicos-financeiros/noticia/2024/04/18/brasil-registra-r-35-bi-em-tentativas-de-fraude-com-cartao-de-credito-aponta-mapa-da-fraude.ghtml)"
   ]
  },
  {
   "cell_type": "markdown",
   "metadata": {},
   "source": [
    "Assumindo que somos responsáveis pelo processo de prevenção a fraude de uma instituição financeira arbitrária, direcionamos nossa atenção para os dados que iremos utilizar neste projeto. Iremos realizar uma **análise estatística descritiva** dos dados e aplicá-los a modelos de **Machine Learning** para otimizar a identificação das tentativas de fraude."
   ]
  },
  {
   "cell_type": "markdown",
   "metadata": {},
   "source": [
    "## Premissas e descrição dos dados\n",
    "\n",
    "É de grande importância listarmos as informações prévias que possuímos, tanto da descrição dos dados, quanto das premissas que iremos assumir. Tais informações são cruciais para nosso objetivo e consequentemente serão carregadas ao longo dos Notebooks Jupyter que compõem este projeto.\n",
    "\n",
    "- score_1 a score_10: Representam notas de bureau de crédito (score de crédito) fornecidos pela empresa, usamos para identificar se o comprador é confiável, também podem haver outros dados anonimizados que não temos informação sobre\n",
    "- pais: Em qual pais a compra foi realizada\n",
    "- produto: Qual tipo de produto que está sendo comprado no e-commerce\n",
    "- categoria_produto: categoria a qual esse produto se encaixa\n",
    "- entrega_doc_1 a entrega_doc_3: Documentos que são requisitados no momento de abertura da conta.\n",
    "- score_fraude_modelo: Score do modelo de predição atual e já implementado pela empresa. É a probabilidade da compra realizada ser uma fraude ou não. Varia de 0 a 100, quanto mais próximo de 100, maior a certeza que a compra é fraude\n",
    "- fraude: Informação se aquela compra foi fraudulenta ou não. Foi rotulada após alguns dias para conferência do modelo atual.\n",
    "\n",
    "**Importante**: Sabemos que a empresa ganha 10% do valor quando um pagamento é aprovado corretamente, porém a cada fraude aprovada perdemos todo (100%) do valor do pagamento. Iremos utilizar essas porcentagens para verificarmos como otimizar nossos ganhos e os KPIs interessantes para a análise."
   ]
  },
  {
   "cell_type": "markdown",
   "metadata": {},
   "source": [
    "## Avaliação das métricas atuais\n",
    "\n",
    "Iremos utilizar nossa amostra atual para calcularmos os seguintes KPIs:\n",
    "1. *Incoming Pressure*: Taxa de transações fraudulentas recebidas pela quantia total de transações \n",
    "2. Taxa de Aprovação: Proporção de transações aprovadas após análise \n",
    "3. Taxa de declínio: Proporção de transações rejeitadas após análise\n",
    "4. Precisão: Proporção de compras ditas como fraudes que realmente são\n",
    "5. Taxa de Detecção (Recall): Quantas fraudes reais o modelo identificou\n",
    "6. Taxa de falsos positivos: Proporção de transações legítimas classificadas como fraudulentas\n",
    "\n",
    "Tais taxas são relativas a esta amostra analisada e não necessariamente representam os valores da população de transações. "
   ]
  },
  {
   "cell_type": "code",
   "execution_count": 2,
   "metadata": {},
   "outputs": [],
   "source": [
    "import pandas as pd"
   ]
  },
  {
   "cell_type": "code",
   "execution_count": 3,
   "metadata": {},
   "outputs": [],
   "source": [
    "df = pd.read_csv(\"../artifacts/data_ingestion/dados.csv\")"
   ]
  },
  {
   "cell_type": "code",
   "execution_count": 4,
   "metadata": {},
   "outputs": [
    {
     "data": {
      "text/plain": [
       "Index(['score_1', 'score_2', 'score_3', 'score_4', 'score_5', 'score_6',\n",
       "       'pais', 'score_7', 'produto', 'categoria_produto', 'score_8', 'score_9',\n",
       "       'score_10', 'entrega_doc_1', 'entrega_doc_2', 'entrega_doc_3',\n",
       "       'data_compra', 'valor_compra', 'score_fraude_modelo', 'fraude'],\n",
       "      dtype='object')"
      ]
     },
     "execution_count": 4,
     "metadata": {},
     "output_type": "execute_result"
    }
   ],
   "source": [
    "df.columns"
   ]
  },
  {
   "cell_type": "markdown",
   "metadata": {},
   "source": [
    "### Maximizar receita obtida e Limiar ótimo\n",
    "\n",
    "Para verificar a situação atual do negócio vamos utilizar neste momento apenas as colunas `valor_compra`, `fraude` e `score_fraude_modelo`, assumindo a premissa de ganhos, vamos encontrar em primeiro momento o limiar do valor de `score_fraude_modelo` que traga o maior valor monetário no **modelo de predição atual**."
   ]
  },
  {
   "cell_type": "markdown",
   "metadata": {},
   "source": [
    "Iremos fazer apenas verificações simples nas colunas, para garantir que nenhum valor nulo interfira nos cálculos dos limiares."
   ]
  },
  {
   "cell_type": "code",
   "execution_count": 5,
   "metadata": {},
   "outputs": [
    {
     "data": {
      "text/plain": [
       "fraude\n",
       "0    142500\n",
       "1      7500\n",
       "Name: count, dtype: int64"
      ]
     },
     "execution_count": 5,
     "metadata": {},
     "output_type": "execute_result"
    }
   ],
   "source": [
    "# Verificando os valores que fraude assume na amostra\n",
    "df[\"fraude\"].value_counts()"
   ]
  },
  {
   "cell_type": "code",
   "execution_count": 6,
   "metadata": {},
   "outputs": [
    {
     "data": {
      "text/plain": [
       "0"
      ]
     },
     "execution_count": 6,
     "metadata": {},
     "output_type": "execute_result"
    }
   ],
   "source": [
    "# Verificando se há algum valor nulo na coluna de predição do modelo.\n",
    "df[\"score_fraude_modelo\"].isnull().sum()"
   ]
  },
  {
   "cell_type": "code",
   "execution_count": 7,
   "metadata": {},
   "outputs": [
    {
     "name": "stdout",
     "output_type": "stream",
     "text": [
      "O limiar ótimo encontrado para a amostra é de: 75\n",
      "Ganhos por transações aprovadas: R$ 433656.06\n",
      "Prejuízos com transações fraudulentas aprovadas: R$ 168726.99\n",
      "Receita gerada com limiar ótimo: R$ 264929.07\n"
     ]
    }
   ],
   "source": [
    "def calculate_revenue(df, score_column, fraud_column, value_column, threshold):\n",
    "    \"\"\"\n",
    "    Função que calcula faturamento da amostra a partir de um limiar de predição.\n",
    "    O cálculo de faturamento se baseia nas premissas:\n",
    "        10% do valor de compras aceitas é recebido.\n",
    "        100% do valor de compras fraudulentar aceitas é perdido.\n",
    "\n",
    "    Args:\n",
    "    - df (pd.DataFrame): DataFrame com os dados de compras.\n",
    "    - score_column (str): Nome da coluna do score de predição.\n",
    "    - fraud_column (str): Nome da coluna classificação real da fraude.\n",
    "    - value_column (str): Nome da coluna com o valor da compra.\n",
    "    - threshold (int): Limiar de score para aceitação.\n",
    "\n",
    "    Returns:\n",
    "    - total_revenue (float): Faturamento total para o limiar fornecido.\n",
    "    \"\"\"\n",
    "\n",
    "    accepted_sales = df.loc[df[score_column] < threshold]\n",
    "\n",
    "    total_normal_accepted = accepted_sales.loc[\n",
    "        accepted_sales[fraud_column] == 0, value_column\n",
    "    ].sum()\n",
    "\n",
    "    total_fraud_accepted = accepted_sales.loc[\n",
    "        accepted_sales[fraud_column] == 1, value_column\n",
    "    ].sum()\n",
    "\n",
    "    # Multiplica-se por 0.1 pois apenas 10% do valor da compra é recebido.\n",
    "    total_income = 0.1 * total_normal_accepted\n",
    "    total_revenue = total_income - total_fraud_accepted\n",
    "\n",
    "    return total_income, total_fraud_accepted, total_revenue\n",
    "\n",
    "\n",
    "revenue_list = []\n",
    "for threshold in range(1, 100):\n",
    "    revenue_list.append(\n",
    "        calculate_revenue(\n",
    "            df, \"score_fraude_modelo\", \"fraude\", \"valor_compra\", threshold\n",
    "        ),\n",
    "    )\n",
    "\n",
    "revenue_df = pd.DataFrame(revenue_list, columns=[\"income\", \"loss\", \"revenue\"])\n",
    "revenue_df\n",
    "best_threshold = revenue_df[\"revenue\"].idxmax()\n",
    "\n",
    "best_record = revenue_df.iloc[best_threshold]\n",
    "\n",
    "best_income = best_record[\"income\"]\n",
    "minimum_loss = best_record[\"loss\"]\n",
    "best_revenue = best_record[\"revenue\"]\n",
    "\n",
    "print(f\"O limiar ótimo encontrado para a amostra é de: {best_threshold}\")\n",
    "print(f\"Ganhos por transações aprovadas: R$ {best_income:.2f}\")\n",
    "print(f\"Prejuízos com transações fraudulentas aprovadas: R$ {minimum_loss:.2f}\")\n",
    "print(f\"Receita gerada com limiar ótimo: R$ {best_revenue:.2f}\")"
   ]
  },
  {
   "cell_type": "markdown",
   "metadata": {},
   "source": [
    "Para o cálculo dos próximos KPIs, iremos assumir o limiar ótimo de identificação de fraude igual a 75 pontos de score.\n",
    "\n",
    "**Atenção**: É importante frisar que este valor ótimo será utilizado para análise inicial dos KPIs da amostra, unicamente para verificarmos as métricas do estado de negócio. No momento em que formos comparar com o modelo construído neste projeto, é necessário calcularmos novamente tais métricas utilizando apenas os dados para avaliação/teste."
   ]
  },
  {
   "cell_type": "markdown",
   "metadata": {},
   "source": [
    "### *Incoming Pressure*\n",
    "\n",
    "Para calcular a pressão de entrada de transações fraudulentas utilizaremos a fórmula:\n",
    "$$\n",
    "\\text{Pressão de Entrada} = \\frac{\\text{Número de transações fraulentas}}{\\text{Total de transações}} \\times 100\n",
    "$$\n",
    "\n",
    "Como estamos calculando uma métrica de relatório e de diagnóstico, utilizaremos o  real da classificação de fraudes para este KPI."
   ]
  },
  {
   "cell_type": "code",
   "execution_count": 8,
   "metadata": {},
   "outputs": [
    {
     "name": "stdout",
     "output_type": "stream",
     "text": [
      "Taxa de pressão de entrada é de 5.0%\n"
     ]
    }
   ],
   "source": [
    "incoming_pressure = (df[\"fraude\"].sum() / df.shape[0]) * 100\n",
    "print(f\"Taxa de pressão de entrada é de {incoming_pressure}%\")"
   ]
  },
  {
   "cell_type": "markdown",
   "metadata": {},
   "source": [
    "Temos o valor de **5%**, podemos utilizar a pressão de entrada para verificar se nossa taxa de aprovação é razoável ou muitro restrita."
   ]
  },
  {
   "cell_type": "markdown",
   "metadata": {},
   "source": [
    "### Taxa de Aprovação"
   ]
  },
  {
   "cell_type": "markdown",
   "metadata": {},
   "source": [
    "Para a taxa de aprovação, utilizaremos todas as transações não marcadas como fraudulentas sobre o total.\n",
    "$$\n",
    "\\text{Taxa de aprovação} = \\frac{\\text{Transações Aprovadas}}{\\text{Total de transações}} \\times 100\n",
    "$$"
   ]
  },
  {
   "cell_type": "code",
   "execution_count": 9,
   "metadata": {},
   "outputs": [
    {
     "name": "stdout",
     "output_type": "stream",
     "text": [
      "Taxa de aprovação total é de 76.51%\n"
     ]
    }
   ],
   "source": [
    "approved_count = df.loc[df[\"score_fraude_modelo\"] < best_threshold].shape[0]\n",
    "approval_rate = (approved_count / df.shape[0]) * 100\n",
    "print(f\"Taxa de aprovação total é de {approval_rate:.2f}%\")"
   ]
  },
  {
   "cell_type": "markdown",
   "metadata": {},
   "source": [
    "Aqui temos uma taxa de aprovação de 76.51%, menor que 80%, o que pode significar uma experiência do usuário não tão satisfatória especialmente para o nível de pressão de entrada que temos menor que 10%."
   ]
  },
  {
   "cell_type": "markdown",
   "metadata": {},
   "source": [
    "### Taxa de Declínio"
   ]
  },
  {
   "cell_type": "markdown",
   "metadata": {},
   "source": [
    "A taxa de declínio pode ser calculada tanto pelo complemento da taxa de aprovação, quanto pela fórmula:\n",
    "$$\n",
    "\\text{Taxa de declínio} = \\frac{\\text{Transações Recusadas}}{\\text{Total de transações}} \\times 100\n",
    "$$"
   ]
  },
  {
   "cell_type": "code",
   "execution_count": 10,
   "metadata": {},
   "outputs": [
    {
     "name": "stdout",
     "output_type": "stream",
     "text": [
      "Taxa de declínio total é de 23.49%\n"
     ]
    }
   ],
   "source": [
    "decline_rate = 100 - approval_rate\n",
    "print(f\"Taxa de declínio total é de {decline_rate:.2f}%\")"
   ]
  },
  {
   "cell_type": "markdown",
   "metadata": {},
   "source": [
    "A taxa de declínio pode ser melhor interpretada em conjunto com as métricas de Precisão e Revocação."
   ]
  },
  {
   "cell_type": "markdown",
   "metadata": {},
   "source": [
    "### Precisão e Revocação (Recall)\n",
    "\n",
    "Temos que nosso Verdadeiro Positivo (VP) será dito pelas Transações fraudulentas identificadas e o falso positivo (FP) Transações legítimas identificadas como fraudulentas.\n",
    "\n",
    "$$\n",
    "\\text{Precisão} = \\frac{\\text{VP}}{\\text{VP} + \\text{FP}}\n",
    "$$\n",
    "\n"
   ]
  },
  {
   "cell_type": "code",
   "execution_count": 11,
   "metadata": {},
   "outputs": [
    {
     "name": "stdout",
     "output_type": "stream",
     "text": [
      "A precisão do modelo é de 14.04%\n"
     ]
    }
   ],
   "source": [
    "declined_sales = df.loc[df[\"score_fraude_modelo\"] > best_threshold]\n",
    "vp = declined_sales.loc[(df[\"fraude\"] == 1)].shape[0]\n",
    "fp = declined_sales.loc[(df[\"fraude\"] == 0)].shape[0]\n",
    "\n",
    "precision = vp / (vp + fp) * 100\n",
    "print(f\"A precisão do modelo é de {precision:.2f}%\")"
   ]
  },
  {
   "cell_type": "markdown",
   "metadata": {},
   "source": [
    "Para calcular o recall alterados apenas o FP utilizado pelos Falsos Negativos, ou seja as Transações Fraudulentas que foram classificadas como legítimas. \n",
    "$$\n",
    "\\text{Recall} = \\frac{\\text{VP}}{\\text{VP} + \\text{FN}}\n",
    "$$"
   ]
  },
  {
   "cell_type": "code",
   "execution_count": 12,
   "metadata": {},
   "outputs": [
    {
     "name": "stdout",
     "output_type": "stream",
     "text": [
      "A revocação do modelo é de 63.78%\n"
     ]
    }
   ],
   "source": [
    "accepted_sales = df.loc[df[\"score_fraude_modelo\"] < best_threshold]\n",
    "fn = accepted_sales.loc[(df[\"fraude\"] == 1)].shape[0]\n",
    "\n",
    "recall = vp / (vp + fn) * 100\n",
    "print(f\"A revocação do modelo é de {recall:.2f}%\")"
   ]
  },
  {
   "cell_type": "markdown",
   "metadata": {},
   "source": [
    "Com esses ambos valores conseguimos comparar nossa precisão com a taxa de declínio. Temos que o valor de 14.04% é menor que a taxa de declínio de 23.49%, com isso uma grande parcela de transações classificadas como fraudulentas na realidade são legítimas causando perdas desnecessárias no faturamento. A revocação de aproxidamente 63.78% significa que estamos capturando certas fraudes, mas que há um grande espaço para melhoria do modelo."
   ]
  },
  {
   "cell_type": "markdown",
   "metadata": {},
   "source": [
    "### Taxa de falsos positivos\n",
    "\n",
    "Para a taxa de falsos positivos temos quantas transações legítimas foram classificadas como fraudes. Para isso utilzaremos os verdadeiros negativos, transações legítimas que foram classificadas como tal.\n",
    "\n",
    "$$\n",
    "\\text{Taxa de falsos positivos} = \\frac{\\text{FP}}{\\text{FP} + \\text{VN}}\n",
    "$$"
   ]
  },
  {
   "cell_type": "code",
   "execution_count": 13,
   "metadata": {},
   "outputs": [
    {
     "name": "stdout",
     "output_type": "stream",
     "text": [
      "A taxa de falsos positivos é de 20.52%\n"
     ]
    }
   ],
   "source": [
    "vn = accepted_sales.loc[(df[\"fraude\"] == 0)].shape[0]\n",
    "\n",
    "false_positive_rate = fp / (fp + vn) * 100\n",
    "print(f\"A taxa de falsos positivos é de {false_positive_rate:.2f}%\")"
   ]
  },
  {
   "cell_type": "markdown",
   "metadata": {},
   "source": [
    "O que representa uma taxa de falsos positivos alta, imagine que 1 em cada 5 compras em seu cartão, ele irá acusar que você está realizando uma fraude. Tal porcentagem reflete uma dificuldade na experiência do usuário. "
   ]
  },
  {
   "cell_type": "markdown",
   "metadata": {},
   "source": [
    "---"
   ]
  },
  {
   "cell_type": "markdown",
   "metadata": {},
   "source": [
    "Nos próximos notebooks pretendemos utilizar novamente as funções para encontrar o melhor limiar e realizar o cálculo de métricas, porém apenas com a parcela de teste para compararmos com o novo modelo construído, iremos repassar os códigos aqui esboçados neste notebook para o arquivo `src/features/base_metrics.py` para facilitar o reuso em momento posterior."
   ]
  },
  {
   "cell_type": "code",
   "execution_count": 14,
   "metadata": {},
   "outputs": [
    {
     "name": "stdout",
     "output_type": "stream",
     "text": [
      "c:\\Users\\renne\\Documents\\Estudos Dados\\Repositórios\\ML\\fraud-detection\n"
     ]
    },
    {
     "name": "stderr",
     "output_type": "stream",
     "text": [
      "c:\\Users\\renne\\anaconda3\\envs\\fraud-detection\\Lib\\site-packages\\IPython\\core\\magics\\osm.py:417: UserWarning: This is now an optional IPython functionality, setting dhist requires you to install the `pickleshare` library.\n",
      "  self.shell.db['dhist'] = compress_dhist(dhist)[-100:]\n"
     ]
    }
   ],
   "source": [
    "%cd ..\n",
    "\n",
    "from src.features.base_metrics import BaseMetrics\n",
    "\n",
    "bm = BaseMetrics(df, \"score_fraude_modelo\", \"fraude\", \"valor_compra\")"
   ]
  },
  {
   "cell_type": "code",
   "execution_count": 15,
   "metadata": {},
   "outputs": [
    {
     "name": "stdout",
     "output_type": "stream",
     "text": [
      "O limiar ótimo encontrado para a amostra é de: 75\n",
      "Ganhos por transações aprovadas: R$ 433656.06\n",
      "Prejuízos com transações fraudulentas aprovadas: R$ 168726.99\n",
      "Receita gerada com limiar ótimo: R$ 264929.07\n",
      "Taxa de pressão de entrada é de 5.0%\n",
      "Taxa de aprovação total é de 76.51%\n",
      "Taxa de declínio total é de 22.45%\n",
      "A precisão do modelo é de 14.04%\n",
      "A revocação do modelo é de 63.78%\n",
      "A taxa de falsos positivos é de 20.52%\n"
     ]
    }
   ],
   "source": [
    "bm.show_all_metrics()"
   ]
  }
 ],
 "metadata": {
  "kernelspec": {
   "display_name": "fraud-detection",
   "language": "python",
   "name": "python3"
  },
  "language_info": {
   "codemirror_mode": {
    "name": "ipython",
    "version": 3
   },
   "file_extension": ".py",
   "mimetype": "text/x-python",
   "name": "python",
   "nbconvert_exporter": "python",
   "pygments_lexer": "ipython3",
   "version": "3.11.11"
  }
 },
 "nbformat": 4,
 "nbformat_minor": 2
}
