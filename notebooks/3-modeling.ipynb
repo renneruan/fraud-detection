{
 "cells": [
  {
   "cell_type": "markdown",
   "metadata": {},
   "source": [
    "# Pré-processamento e criação do modelo\n",
    "\n",
    "Nesta etapa do projeto utilizaremos das informações coletadas na etapa de EDA para tratarmos nossas features visando uma melhor aplicação ao modelo. Trazendo nossos resultados do EDA, temos:\n",
    "\n",
    "- Exclusão das variáveis `score_8` e `produto`\n",
    "- Há variáveis discretas dentre as numéricas\n",
    "- Podemos aplicar a transformação log nas variávels `score_3` e `valor_compra`\n",
    "- Podemos aplicar a transformação cúbica ao `score_6`\n",
    "- A variável `pais` pode ser agrupada em continentes\n",
    "- Podemos transformar a variável `data_compra` em hora do dia e dia da semana."
   ]
  },
  {
   "cell_type": "code",
   "execution_count": 31,
   "metadata": {},
   "outputs": [],
   "source": [
    "import os\n",
    "import pandas as pd\n",
    "\n",
    "\n",
    "import numpy as np\n",
    "\n",
    "\n",
    "from tabulate import tabulate\n",
    "\n",
    "import mlflow\n",
    "import mlflow.sklearn\n",
    "from urllib.parse import urlparse\n",
    "\n",
    "\n",
    "from sklearn.model_selection import (\n",
    "    train_test_split,\n",
    "\n",
    "    KFold,\n",
    "    cross_val_score,\n",
    "    RandomizedSearchCV,\n",
    ")\n",
    "\n",
    "\n",
    "import seaborn as sns\n",
    "import matplotlib.pyplot as plt\n",
    "\n",
    "\n",
    "from sklearn.ensemble import RandomForestClassifier\n",
    "\n",
    "\n",
    "from sklearn.tree import DecisionTreeClassifier\n",
    "\n",
    "\n",
    "from xgboost import XGBClassifier\n",
    "\n",
    "\n",
    "from lightgbm import LGBMClassifier\n",
    "\n",
    "\n",
    "\n",
    "from sklearn.metrics import (\n",
    "    roc_auc_score,\n",
    "    log_loss,\n",
    "    precision_score,\n",
    "    recall_score,\n",
    "    f1_score,\n",
    ")\n",
    "\n",
    "\n",
    "\n",
    "from sklearn.base import BaseEstimator, TransformerMixin\n",
    "\n",
    "\n",
    "from sklearn.pipeline import Pipeline\n",
    "\n",
    "\n",
    "from sklearn.impute import SimpleImputer\n",
    "\n",
    "\n",
    "from sklearn.preprocessing import TargetEncoder\n",
    "\n",
    "\n",
    "from sklearn.compose import ColumnTransformer\n",
    "\n",
    "\n",
    "\n",
    "import pycountry_convert as pc\n",
    "\n",
    "\n",
    "import warnings\n",
    "\n",
    "\n",
    "\n",
    "warnings.simplefilter(action=\"ignore\", category=FutureWarning)"
   ]
  },
  {
   "cell_type": "markdown",
   "metadata": {},
   "source": [
    "Vamos carregar e consultar novamente nossos dados, isso servirá como um parâmetro para como está o estado das variáveis e como queremos transformá-las. Lembrando para aplicarmos nossos dados de amostra a um modelo, precisamos que todas as variáveis estejam com valor numérico, isso permite aplicá-las a determinados modelos."
   ]
  },
  {
   "cell_type": "code",
   "execution_count": 2,
   "metadata": {},
   "outputs": [
    {
     "data": {
      "text/html": [
       "<div>\n",
       "<style scoped>\n",
       "    .dataframe tbody tr th:only-of-type {\n",
       "        vertical-align: middle;\n",
       "    }\n",
       "\n",
       "    .dataframe tbody tr th {\n",
       "        vertical-align: top;\n",
       "    }\n",
       "\n",
       "    .dataframe thead th {\n",
       "        text-align: right;\n",
       "    }\n",
       "</style>\n",
       "<table border=\"1\" class=\"dataframe\">\n",
       "  <thead>\n",
       "    <tr style=\"text-align: right;\">\n",
       "      <th></th>\n",
       "      <th>score_1</th>\n",
       "      <th>score_2</th>\n",
       "      <th>score_3</th>\n",
       "      <th>score_4</th>\n",
       "      <th>score_5</th>\n",
       "      <th>score_6</th>\n",
       "      <th>pais</th>\n",
       "      <th>score_7</th>\n",
       "      <th>produto</th>\n",
       "      <th>categoria_produto</th>\n",
       "      <th>score_8</th>\n",
       "      <th>score_9</th>\n",
       "      <th>score_10</th>\n",
       "      <th>entrega_doc_1</th>\n",
       "      <th>entrega_doc_2</th>\n",
       "      <th>entrega_doc_3</th>\n",
       "      <th>data_compra</th>\n",
       "      <th>valor_compra</th>\n",
       "      <th>score_fraude_modelo</th>\n",
       "      <th>fraude</th>\n",
       "    </tr>\n",
       "  </thead>\n",
       "  <tbody>\n",
       "    <tr>\n",
       "      <th>0</th>\n",
       "      <td>4</td>\n",
       "      <td>0.7685</td>\n",
       "      <td>94436.24</td>\n",
       "      <td>20.0</td>\n",
       "      <td>0.444828</td>\n",
       "      <td>1.0</td>\n",
       "      <td>BR</td>\n",
       "      <td>5</td>\n",
       "      <td>Máquininha Corta Barba Cabelo Peito Perna Pelo...</td>\n",
       "      <td>cat_8d714cd</td>\n",
       "      <td>0.883598</td>\n",
       "      <td>240.0</td>\n",
       "      <td>102.0</td>\n",
       "      <td>1</td>\n",
       "      <td>NaN</td>\n",
       "      <td>N</td>\n",
       "      <td>2020-03-27 11:51:16</td>\n",
       "      <td>5.64</td>\n",
       "      <td>66</td>\n",
       "      <td>0</td>\n",
       "    </tr>\n",
       "    <tr>\n",
       "      <th>1</th>\n",
       "      <td>4</td>\n",
       "      <td>0.7550</td>\n",
       "      <td>9258.50</td>\n",
       "      <td>1.0</td>\n",
       "      <td>0.000000</td>\n",
       "      <td>33.0</td>\n",
       "      <td>BR</td>\n",
       "      <td>0</td>\n",
       "      <td>Avental Descartavel Manga Longa  - 50 Un. Tnt ...</td>\n",
       "      <td>cat_64b574b</td>\n",
       "      <td>0.376019</td>\n",
       "      <td>4008.0</td>\n",
       "      <td>0.0</td>\n",
       "      <td>1</td>\n",
       "      <td>Y</td>\n",
       "      <td>N</td>\n",
       "      <td>2020-04-15 19:58:08</td>\n",
       "      <td>124.71</td>\n",
       "      <td>72</td>\n",
       "      <td>0</td>\n",
       "    </tr>\n",
       "    <tr>\n",
       "      <th>2</th>\n",
       "      <td>4</td>\n",
       "      <td>0.7455</td>\n",
       "      <td>242549.09</td>\n",
       "      <td>3.0</td>\n",
       "      <td>0.000000</td>\n",
       "      <td>19.0</td>\n",
       "      <td>AR</td>\n",
       "      <td>23</td>\n",
       "      <td>Bicicleta Mountain Fire Bird Rodado 29 Alumini...</td>\n",
       "      <td>cat_e9110c5</td>\n",
       "      <td>0.516368</td>\n",
       "      <td>1779.0</td>\n",
       "      <td>77.0</td>\n",
       "      <td>1</td>\n",
       "      <td>NaN</td>\n",
       "      <td>N</td>\n",
       "      <td>2020-03-25 18:13:38</td>\n",
       "      <td>339.32</td>\n",
       "      <td>95</td>\n",
       "      <td>0</td>\n",
       "    </tr>\n",
       "    <tr>\n",
       "      <th>3</th>\n",
       "      <td>4</td>\n",
       "      <td>0.7631</td>\n",
       "      <td>18923.90</td>\n",
       "      <td>50.0</td>\n",
       "      <td>0.482385</td>\n",
       "      <td>18.0</td>\n",
       "      <td>BR</td>\n",
       "      <td>23</td>\n",
       "      <td>Caneta Delineador Carimbo Olho Gatinho Longo 2...</td>\n",
       "      <td>cat_d06e653</td>\n",
       "      <td>0.154036</td>\n",
       "      <td>1704.0</td>\n",
       "      <td>1147.0</td>\n",
       "      <td>1</td>\n",
       "      <td>NaN</td>\n",
       "      <td>Y</td>\n",
       "      <td>2020-04-16 16:03:10</td>\n",
       "      <td>3.54</td>\n",
       "      <td>2</td>\n",
       "      <td>0</td>\n",
       "    </tr>\n",
       "    <tr>\n",
       "      <th>4</th>\n",
       "      <td>2</td>\n",
       "      <td>0.7315</td>\n",
       "      <td>5728.68</td>\n",
       "      <td>15.0</td>\n",
       "      <td>0.000000</td>\n",
       "      <td>1.0</td>\n",
       "      <td>BR</td>\n",
       "      <td>2</td>\n",
       "      <td>Resident Evil Operation Raccoon City Ps3</td>\n",
       "      <td>cat_6c4cfdc</td>\n",
       "      <td>0.855798</td>\n",
       "      <td>1025.0</td>\n",
       "      <td>150.0</td>\n",
       "      <td>1</td>\n",
       "      <td>NaN</td>\n",
       "      <td>N</td>\n",
       "      <td>2020-04-02 10:24:45</td>\n",
       "      <td>3.53</td>\n",
       "      <td>76</td>\n",
       "      <td>0</td>\n",
       "    </tr>\n",
       "  </tbody>\n",
       "</table>\n",
       "</div>"
      ],
      "text/plain": [
       "   score_1  score_2    score_3  score_4   score_5  score_6 pais  score_7  \\\n",
       "0        4   0.7685   94436.24     20.0  0.444828      1.0   BR        5   \n",
       "1        4   0.7550    9258.50      1.0  0.000000     33.0   BR        0   \n",
       "2        4   0.7455  242549.09      3.0  0.000000     19.0   AR       23   \n",
       "3        4   0.7631   18923.90     50.0  0.482385     18.0   BR       23   \n",
       "4        2   0.7315    5728.68     15.0  0.000000      1.0   BR        2   \n",
       "\n",
       "                                             produto categoria_produto  \\\n",
       "0  Máquininha Corta Barba Cabelo Peito Perna Pelo...       cat_8d714cd   \n",
       "1  Avental Descartavel Manga Longa  - 50 Un. Tnt ...       cat_64b574b   \n",
       "2  Bicicleta Mountain Fire Bird Rodado 29 Alumini...       cat_e9110c5   \n",
       "3  Caneta Delineador Carimbo Olho Gatinho Longo 2...       cat_d06e653   \n",
       "4           Resident Evil Operation Raccoon City Ps3       cat_6c4cfdc   \n",
       "\n",
       "    score_8  score_9  score_10  entrega_doc_1 entrega_doc_2 entrega_doc_3  \\\n",
       "0  0.883598    240.0     102.0              1           NaN             N   \n",
       "1  0.376019   4008.0       0.0              1             Y             N   \n",
       "2  0.516368   1779.0      77.0              1           NaN             N   \n",
       "3  0.154036   1704.0    1147.0              1           NaN             Y   \n",
       "4  0.855798   1025.0     150.0              1           NaN             N   \n",
       "\n",
       "           data_compra  valor_compra  score_fraude_modelo  fraude  \n",
       "0  2020-03-27 11:51:16          5.64                   66       0  \n",
       "1  2020-04-15 19:58:08        124.71                   72       0  \n",
       "2  2020-03-25 18:13:38        339.32                   95       0  \n",
       "3  2020-04-16 16:03:10          3.54                    2       0  \n",
       "4  2020-04-02 10:24:45          3.53                   76       0  "
      ]
     },
     "execution_count": 2,
     "metadata": {},
     "output_type": "execute_result"
    }
   ],
   "source": [
    "df = pd.read_csv(\"../data/raw/dados.csv\")\n",
    "df.head()"
   ]
  },
  {
   "cell_type": "markdown",
   "metadata": {},
   "source": [
    "Antes de qualquer processamento a ser aplicado a nossos dados devemos dividi-los em treino e teste para evitar vazamento de dados, ou seja nossos dados de teste não devem ser utilizados em treino, garantindo possamos avaliar modelo se o modelo se adapta a dados externos e variados."
   ]
  },
  {
   "cell_type": "code",
   "execution_count": 3,
   "metadata": {},
   "outputs": [],
   "source": [
    "X = df.drop(\"fraude\", axis=1)\n",
    "y = df[\"fraude\"]\n",
    "\n",
    "X_train, X_test, y_train, y_test = train_test_split(\n",
    "    X, y, test_size=0.2, random_state=42\n",
    ")"
   ]
  },
  {
   "cell_type": "markdown",
   "metadata": {},
   "source": [
    "### Pipelines de pré-processamento"
   ]
  },
  {
   "cell_type": "markdown",
   "metadata": {},
   "source": [
    "Iremos construir as etapas de pré processamento como classes para serem aplicadas a um Pipeline, criamos uma `CustomClass` para carregar a herança do `BaseEstimator` e `TransformerMixin` para outros componentes, além da inicialização com a designação de colunas."
   ]
  },
  {
   "cell_type": "code",
   "execution_count": 4,
   "metadata": {},
   "outputs": [],
   "source": [
    "class CustomProcessor(BaseEstimator, TransformerMixin):\n",
    "    def __init__(self, cols=[]):\n",
    "        self.cols = cols\n",
    "\n",
    "    def fit(self, X, y=None):\n",
    "        return self"
   ]
  },
  {
   "cell_type": "code",
   "execution_count": 5,
   "metadata": {},
   "outputs": [],
   "source": [
    "# Processador para retirar colunas desejadas.\n",
    "class DropColumn(CustomProcessor):\n",
    "\n",
    "    def transform(self, X):\n",
    "\n",
    "        return X.drop(self.cols, axis=1)"
   ]
  },
  {
   "cell_type": "markdown",
   "metadata": {},
   "source": [
    "Vamos processar as colunas de documentos, os valores nulos serão preeenchidos com \"N\" transforma os valores de texto para 0 ou 1 (N ou Y)."
   ]
  },
  {
   "cell_type": "code",
   "execution_count": 6,
   "metadata": {},
   "outputs": [],
   "source": [
    "class DocumentsProcessor(CustomProcessor):\n",
    "\n",
    "    def transform(self, X):\n",
    "\n",
    "        X_new = X.copy()\n",
    "\n",
    "        X_new[self.cols] = X_new[self.cols].fillna(\"N\")\n",
    "\n",
    "        X_new[self.cols] = (X_new[self.cols] == \"Y\").astype(int)\n",
    "\n",
    "\n",
    "        return X_new"
   ]
  },
  {
   "cell_type": "markdown",
   "metadata": {},
   "source": [
    "O processador de datas, vamos criar as colunas de hora e dia da semana. Importante retirarmos a coluna inicial data_compra para evitar informações repetidas."
   ]
  },
  {
   "cell_type": "code",
   "execution_count": 7,
   "metadata": {},
   "outputs": [],
   "source": [
    "class DateProcessor(CustomProcessor):\n",
    "\n",
    "    def transform(self, X):\n",
    "        X_new = X.copy()\n",
    "        date = pd.to_datetime(X_new[\"data_compra\"])\n",
    "\n",
    "        X_new[\"hora_compra\"] = date.dt.hour\n",
    "        X_new[\"dia_compra\"] = date.dt.dayofweek\n",
    "\n",
    "        X_new = X_new.drop(\"data_compra\", axis=1)\n",
    "\n",
    "        return X_new"
   ]
  },
  {
   "cell_type": "markdown",
   "metadata": {},
   "source": [
    "Para variáveis categóricas vamos aplicar o OneHotEncoding para variáveis com menor cardinalidade."
   ]
  },
  {
   "cell_type": "code",
   "execution_count": 8,
   "metadata": {},
   "outputs": [],
   "source": [
    "class OneHotEncoderProcessor(CustomProcessor):\n",
    "\n",
    "    def transform(self, X):\n",
    "        X_encoded = pd.get_dummies(X, columns=self.cols, drop_first=True, dtype=int)\n",
    "\n",
    "        return X_encoded"
   ]
  },
  {
   "cell_type": "markdown",
   "metadata": {},
   "source": [
    "A classe `ImputeValuesProcessor` é a de maior complexidade devido a necessidade de processar variáveis discretas e contínuas, e aplicá-las ao `ColumnTransformer`. Esta abordagem foi escolhida pois as transformações de saída do `ColumnTransformer` transforma o DataFrame em um array Numpy sem as informações de rótulos de colunas.\n",
    "\n",
    "Precisamos resgatar os nomes de colunas e transformar novamente em um DataFrame para aplicá-los ao pipeline de transformação.\n",
    "\n",
    "Para o preenchimento de valores vazios iremos utilizar a média para variáveis contínuas e a moda para variáveis discretas.\n"
   ]
  },
  {
   "cell_type": "code",
   "execution_count": 9,
   "metadata": {},
   "outputs": [],
   "source": [
    "class ImputeValuesProcessor(BaseEstimator, TransformerMixin):\n",
    "\n",
    "\n",
    "    def __init__(self, discrete_cols=[], continuous_cols=[]):\n",
    "        self.discrete_cols = discrete_cols\n",
    "        self.continuous_cols = continuous_cols\n",
    "\n",
    "\n",
    "        self.numerical_imputer = ColumnTransformer(\n",
    "            transformers=[\n",
    "                (\n",
    "\n",
    "                    \"discrete\",\n",
    "\n",
    "                    SimpleImputer(strategy=\"most_frequent\"),\n",
    "                    self.discrete_cols,\n",
    "                ),\n",
    "\n",
    "                (\"continuous\", SimpleImputer(strategy=\"mean\"), self.continuous_cols),\n",
    "            ],\n",
    "\n",
    "            remainder=\"passthrough\",\n",
    "        )\n",
    "\n",
    "\n",
    "    def fit(self, X, y=None):\n",
    "\n",
    "        self.numerical_imputer.fit(X)\n",
    "        return self\n",
    "\n",
    "\n",
    "    def transform(self, X):\n",
    "\n",
    "\n",
    "        X_transformed = self.numerical_imputer.transform(X)\n",
    "\n",
    "        X_transformed = pd.DataFrame(X_transformed, columns=self._get_column_names(X))\n",
    "\n",
    "        return X_transformed\n",
    "\n",
    "\n",
    "    def _get_column_names(self, X):\n",
    "\n",
    "        transformed_columns = (\n",
    "            self.discrete_cols\n",
    "\n",
    "            + self.continuous_cols\n",
    "            + [\n",
    "                col\n",
    "\n",
    "                for col in X.columns\n",
    "                if col not in self.discrete_cols + self.continuous_cols\n",
    "            ]\n",
    "        )\n",
    "        return transformed_columns"
   ]
  },
  {
   "cell_type": "markdown",
   "metadata": {},
   "source": [
    "Aqui iremos aplicar as transformações numéricas as colunas possívels, sendo a transformação log e raiz cúbica."
   ]
  },
  {
   "cell_type": "code",
   "execution_count": 10,
   "metadata": {},
   "outputs": [],
   "source": [
    "class TransformColumns(CustomProcessor):\n",
    "    def transform(self, X):\n",
    "        X_new = X.copy()\n",
    "\n",
    "        print(X_new[\"valor_compra\"].dtype)\n",
    "        X_new[\"log_score_3\"] = np.log1p(X_new[\"score_3\"].astype(float))\n",
    "        X_new[\"log_valor_compra\"] = np.log1p(X_new[\"valor_compra\"].astype(float))\n",
    "        X_new[\"cbrt_score_6\"] = np.cbrt(X_new[\"score_6\"].astype(float))\n",
    "\n",
    "        X_new = X_new.drop([\"score_3\", \"valor_compra\", \"score_6\"], axis=1)\n",
    "\n",
    "        return X_new"
   ]
  },
  {
   "cell_type": "markdown",
   "metadata": {},
   "source": [
    "O processador de país irá transformar a coluna em continentes, agrupando em apenas 5 categorias."
   ]
  },
  {
   "cell_type": "code",
   "execution_count": 11,
   "metadata": {},
   "outputs": [],
   "source": [
    "class CountryProcessor(CustomProcessor):\n",
    "    def transform(self, X):\n",
    "        X_new = X.copy()\n",
    "        X_new[\"pais\"] = X_new[\"pais\"].fillna(X_new[\"pais\"].mode()[0])\n",
    "\n",
    "        X_new[\"continente\"] = X_new[\"pais\"].apply(\n",
    "            lambda x: pc.country_alpha2_to_continent_code(x)\n",
    "        )\n",
    "\n",
    "        X_new = X_new.drop(\"pais\", axis=1)\n",
    "\n",
    "        return X_new"
   ]
  },
  {
   "cell_type": "code",
   "execution_count": 12,
   "metadata": {},
   "outputs": [],
   "source": [
    "discrete_columns = [\"score_4\", \"score_7\"]\n",
    "continuous_columns = [\n",
    "    \"score_2\",\n",
    "    \"score_3\",\n",
    "    \"score_5\",\n",
    "    \"score_6\",\n",
    "    \"score_9\",\n",
    "    \"score_10\",\n",
    "    \"valor_compra\",\n",
    "]\n",
    "\n",
    "to_drop_columns = [\"score_fraude_modelo\", \"produto\", \"score_8\"]\n",
    "\n",
    "documents_columns = [\"entrega_doc_1\", \"entrega_doc_2\", \"entrega_doc_3\"]\n",
    "\n",
    "\n",
    "pipeline = Pipeline(\n",
    "    [\n",
    "        (\"dropper\", DropColumn(to_drop_columns)),\n",
    "        (\n",
    "            \"imputer\",\n",
    "            ImputeValuesProcessor(\n",
    "                discrete_cols=discrete_columns, continuous_cols=continuous_columns\n",
    "            ),\n",
    "        ),\n",
    "        (\"docs\", DocumentsProcessor(documents_columns)),\n",
    "        (\"country\", CountryProcessor()),\n",
    "        (\"date\", DateProcessor()),\n",
    "        (\"encoder\", OneHotEncoderProcessor([\"score_1\", \"continente\"])),\n",
    "        (\"transform\", TransformColumns()),\n",
    "    ]\n",
    ")"
   ]
  },
  {
   "cell_type": "markdown",
   "metadata": {},
   "source": [
    "Após o pipeline de transformação inicial, devemos por último aplicar o TargetEncoding para colunas categóricas de muita categorias (alta cardinalidade) como a coluna `categoria_produto`.\n",
    "\n",
    "Devemos utilizar os dados de treino para fazer o fit do TargetEncoding para apenas transformarmos os dados de teste."
   ]
  },
  {
   "cell_type": "code",
   "execution_count": 13,
   "metadata": {},
   "outputs": [
    {
     "name": "stdout",
     "output_type": "stream",
     "text": [
      "object\n",
      "object\n"
     ]
    }
   ],
   "source": [
    "X_train_t = pipeline.fit_transform(X_train)\n",
    "X_test_t = pipeline.transform(X_test)\n",
    "\n",
    "category_train_df = X_train_t[\"categoria_produto\"].to_frame(name=\"categoria_produto\")\n",
    "category_test_df = X_test_t[\"categoria_produto\"].to_frame(name=\"categoria_produto\")\n",
    "\n",
    "\n",
    "target_encoder = TargetEncoder()\n",
    "\n",
    "X_train_t[\"categoria_produto\"] = target_encoder.fit_transform(\n",
    "    category_train_df, y_train\n",
    ")\n",
    "X_test_t[\"categoria_produto\"] = target_encoder.transform(category_test_df)"
   ]
  },
  {
   "cell_type": "markdown",
   "metadata": {},
   "source": [
    "Por último realizamos as últimas conversões as colunas que foram transformadas para garantirmos que sejam numéricas."
   ]
  },
  {
   "cell_type": "code",
   "execution_count": 14,
   "metadata": {},
   "outputs": [],
   "source": [
    "def convert_to_numeric(df):\n",
    "    new_df = df.copy()\n",
    "    for col in new_df.select_dtypes(include=[\"object\"]).columns:\n",
    "        try:\n",
    "            new_df[col] = pd.to_numeric(new_df[col], errors=\"coerce\")\n",
    "        except ValueError as e:\n",
    "            print(e)\n",
    "            pass\n",
    "\n",
    "    return new_df\n",
    "\n",
    "\n",
    "X_train_t = convert_to_numeric(X_train_t)\n",
    "X_test_t = convert_to_numeric(X_test_t)"
   ]
  },
  {
   "cell_type": "markdown",
   "metadata": {},
   "source": [
    "Verificamos que todas as colunas foram alteradas e transformadas para valores numericos a seguir."
   ]
  },
  {
   "cell_type": "code",
   "execution_count": 15,
   "metadata": {},
   "outputs": [
    {
     "data": {
      "text/plain": [
       "score_4              float64\n",
       "score_7              float64\n",
       "score_2              float64\n",
       "score_5              float64\n",
       "score_9              float64\n",
       "score_10             float64\n",
       "categoria_produto    float64\n",
       "entrega_doc_1          int32\n",
       "entrega_doc_2          int32\n",
       "entrega_doc_3          int32\n",
       "hora_compra            int32\n",
       "dia_compra             int32\n",
       "score_1_2              int32\n",
       "score_1_3              int32\n",
       "score_1_4              int32\n",
       "continente_AS          int32\n",
       "continente_EU          int32\n",
       "continente_NA          int32\n",
       "continente_OC          int32\n",
       "continente_SA          int32\n",
       "log_score_3          float64\n",
       "log_valor_compra     float64\n",
       "cbrt_score_6         float64\n",
       "dtype: object"
      ]
     },
     "execution_count": 15,
     "metadata": {},
     "output_type": "execute_result"
    }
   ],
   "source": [
    "X_train_t.dtypes"
   ]
  },
  {
   "cell_type": "markdown",
   "metadata": {},
   "source": [
    "### Treinamento de modelos"
   ]
  },
  {
   "cell_type": "markdown",
   "metadata": {},
   "source": [
    "Foram escolhidos modelos de classificação que funcionam baseando-se em árvores de decisão. Fizemos uma comparação entre os seguintes modelos:\n",
    "- Random Forest\n",
    "- XGBoost\n",
    "- LightGBM\n",
    "- DecisionTree\n",
    "\n",
    "Tendo em vista que estamos lidando com dados desbalanceados, designamos hiperparâmetros dos modelos para lidar com essa problemática no conjunto de dados. "
   ]
  },
  {
   "cell_type": "code",
   "execution_count": 16,
   "metadata": {},
   "outputs": [
    {
     "name": "stdout",
     "output_type": "stream",
     "text": [
      "Random Forest: 0.773430 (0.002609)\n",
      "[0.07222587 0.08507765 0.0836143  0.0697832 ]\n",
      "XGBoost: 0.758023 (0.004565)\n",
      "[0.50952068 0.51789332 0.49426837 0.50135501]\n",
      "[LightGBM] [Info] Number of positive: 4440, number of negative: 85560\n",
      "[LightGBM] [Info] Auto-choosing row-wise multi-threading, the overhead of testing was 0.004335 seconds.\n",
      "You can set `force_row_wise=true` to remove the overhead.\n",
      "And if memory is not enough, you can set `force_col_wise=true`.\n",
      "[LightGBM] [Info] Total Bins 2197\n",
      "[LightGBM] [Info] Number of data points in the train set: 90000, number of used features: 20\n",
      "[LightGBM] [Info] [binary:BoostFromScore]: pavg=0.500000 -> initscore=0.000000\n",
      "[LightGBM] [Info] Start training from score 0.000000\n",
      "[LightGBM] [Info] Number of positive: 4482, number of negative: 85518\n",
      "[LightGBM] [Info] Auto-choosing row-wise multi-threading, the overhead of testing was 0.003479 seconds.\n",
      "You can set `force_row_wise=true` to remove the overhead.\n",
      "And if memory is not enough, you can set `force_col_wise=true`.\n",
      "[LightGBM] [Info] Total Bins 2197\n",
      "[LightGBM] [Info] Number of data points in the train set: 90000, number of used features: 20\n",
      "[LightGBM] [Info] [binary:BoostFromScore]: pavg=0.500000 -> initscore=-0.000000\n",
      "[LightGBM] [Info] Start training from score -0.000000\n",
      "[LightGBM] [Info] Number of positive: 4480, number of negative: 85520\n",
      "[LightGBM] [Info] Auto-choosing row-wise multi-threading, the overhead of testing was 0.004173 seconds.\n",
      "You can set `force_row_wise=true` to remove the overhead.\n",
      "And if memory is not enough, you can set `force_col_wise=true`.\n",
      "[LightGBM] [Info] Total Bins 2197\n",
      "[LightGBM] [Info] Number of data points in the train set: 90000, number of used features: 20\n",
      "[LightGBM] [Info] [binary:BoostFromScore]: pavg=0.500000 -> initscore=-0.000000\n",
      "[LightGBM] [Info] Start training from score -0.000000\n",
      "[LightGBM] [Info] Number of positive: 4487, number of negative: 85513\n",
      "[LightGBM] [Info] Auto-choosing row-wise multi-threading, the overhead of testing was 0.003488 seconds.\n",
      "You can set `force_row_wise=true` to remove the overhead.\n",
      "And if memory is not enough, you can set `force_col_wise=true`.\n",
      "[LightGBM] [Info] Total Bins 2197\n",
      "[LightGBM] [Info] Number of data points in the train set: 90000, number of used features: 20\n",
      "[LightGBM] [Info] [binary:BoostFromScore]: pavg=0.500000 -> initscore=0.000000\n",
      "[LightGBM] [Info] Start training from score 0.000000\n",
      "[LightGBM] [Info] Number of positive: 4440, number of negative: 85560\n",
      "[LightGBM] [Info] Auto-choosing row-wise multi-threading, the overhead of testing was 0.004015 seconds.\n",
      "You can set `force_row_wise=true` to remove the overhead.\n",
      "And if memory is not enough, you can set `force_col_wise=true`.\n",
      "[LightGBM] [Info] Total Bins 2197\n",
      "[LightGBM] [Info] Number of data points in the train set: 90000, number of used features: 20\n",
      "[LightGBM] [Info] [binary:BoostFromScore]: pavg=0.500000 -> initscore=0.000000\n",
      "[LightGBM] [Info] Start training from score 0.000000\n",
      "[LightGBM] [Info] Number of positive: 4482, number of negative: 85518\n",
      "[LightGBM] [Info] Auto-choosing row-wise multi-threading, the overhead of testing was 0.004207 seconds.\n",
      "You can set `force_row_wise=true` to remove the overhead.\n",
      "And if memory is not enough, you can set `force_col_wise=true`.\n",
      "[LightGBM] [Info] Total Bins 2197\n",
      "[LightGBM] [Info] Number of data points in the train set: 90000, number of used features: 20\n",
      "[LightGBM] [Info] [binary:BoostFromScore]: pavg=0.500000 -> initscore=-0.000000\n",
      "[LightGBM] [Info] Start training from score -0.000000\n",
      "[LightGBM] [Info] Number of positive: 4480, number of negative: 85520\n",
      "[LightGBM] [Info] Auto-choosing row-wise multi-threading, the overhead of testing was 0.003591 seconds.\n",
      "You can set `force_row_wise=true` to remove the overhead.\n",
      "And if memory is not enough, you can set `force_col_wise=true`.\n",
      "[LightGBM] [Info] Total Bins 2197\n",
      "[LightGBM] [Info] Number of data points in the train set: 90000, number of used features: 20\n",
      "[LightGBM] [Info] [binary:BoostFromScore]: pavg=0.500000 -> initscore=-0.000000\n",
      "[LightGBM] [Info] Start training from score -0.000000\n",
      "[LightGBM] [Info] Number of positive: 4487, number of negative: 85513\n",
      "[LightGBM] [Info] Auto-choosing row-wise multi-threading, the overhead of testing was 0.003452 seconds.\n",
      "You can set `force_row_wise=true` to remove the overhead.\n",
      "And if memory is not enough, you can set `force_col_wise=true`.\n",
      "[LightGBM] [Info] Total Bins 2197\n",
      "[LightGBM] [Info] Number of data points in the train set: 90000, number of used features: 20\n",
      "[LightGBM] [Info] [binary:BoostFromScore]: pavg=0.500000 -> initscore=0.000000\n",
      "[LightGBM] [Info] Start training from score 0.000000\n",
      "LightGBM: 0.788691 (0.005308)\n",
      "[0.63887065 0.6596894  0.65879973 0.63550136]\n",
      "Decision Tree: 0.564932 (0.003843)\n",
      "[0.16349311 0.18095881 0.16857721 0.18292683]\n"
     ]
    }
   ],
   "source": [
    "models = [\n",
    "    (\"Random Forest\", RandomForestClassifier(n_estimators=100, random_state=42)),\n",
    "    (\"XGBoost\", XGBClassifier(scale_pos_weight=20, random_state=42)),\n",
    "    (\"LightGBM\", LGBMClassifier(class_weight=\"balanced\", random_state=42)),\n",
    "    (\"Decision Tree\", DecisionTreeClassifier(class_weight=\"balanced\", random_state=42)),\n",
    "]\n",
    "\n",
    "results = []\n",
    "for name, model in models:\n",
    "    kfold = KFold(n_splits=4, random_state=42, shuffle=True)\n",
    "    cv_results = cross_val_score(model, X_train_t, y_train, cv=kfold, scoring=\"roc_auc\")\n",
    "\n",
    "    recall_results = cross_val_score(\n",
    "        model, X_train_t, y_train, cv=kfold, scoring=\"recall\"\n",
    "    )\n",
    "\n",
    "    results.append(cv_results)\n",
    "    msg = \"%s: %f (%f)\" % (\n",
    "        name,\n",
    "        cv_results.mean(),\n",
    "        cv_results.std(),\n",
    "    )\n",
    "    print(msg)\n",
    "    print(recall_results)"
   ]
  },
  {
   "cell_type": "markdown",
   "metadata": {},
   "source": [
    "A métrica utilizada de comparação foi a de Área sob a curva (ROC AUC). Os modelos que obtiveram o melhor desempenho foram `LightGBM` e `RandomForest`, enquanto o pior desempenho foi obtido pela `Decision Tree`.\n",
    "\n",
    "Por razões de eficiência, desempenho e possibilidade de escalabilidade para conjuntos maiores, iremos prosseguir os experimentos com o modelo `LightGBM`. Onde iremos realizar uma busca de melhor hiperparâmetros utilizando Random Search."
   ]
  },
  {
   "cell_type": "code",
   "execution_count": 17,
   "metadata": {},
   "outputs": [],
   "source": [
    "def get_metrics(y_true, y_pred):\n",
    "    metrics = [\n",
    "        (\"ROC_AUC\", roc_auc_score(y_true, y_pred)),\n",
    "        (\"Log-loss\", log_loss(y_true, y_pred)),\n",
    "        (\"Precision\", precision_score(y_true, y_pred)),\n",
    "        (\"Recall\", recall_score(y_true, y_pred)),\n",
    "        (\"F1\", f1_score(y_true, y_pred)),\n",
    "    ]\n",
    "\n",
    "    print(\"Métricas para o limiar de 0.5 (50)\")\n",
    "    for name, value in metrics:\n",
    "        print(f\"{name}: {value}\")\n",
    "\n",
    "    return metrics"
   ]
  },
  {
   "cell_type": "code",
   "execution_count": 18,
   "metadata": {},
   "outputs": [
    {
     "name": "stdout",
     "output_type": "stream",
     "text": [
      "Fitting 3 folds for each of 20 candidates, totalling 60 fits\n",
      "[LightGBM] [Info] Number of positive: 5963, number of negative: 114037\n",
      "[LightGBM] [Info] Auto-choosing col-wise multi-threading, the overhead of testing was 0.032672 seconds.\n",
      "You can set `force_col_wise=true` to remove the overhead.\n",
      "[LightGBM] [Info] Total Bins 2197\n",
      "[LightGBM] [Info] Number of data points in the train set: 120000, number of used features: 20\n",
      "[LightGBM] [Info] [binary:BoostFromScore]: pavg=0.049692 -> initscore=-2.950949\n",
      "[LightGBM] [Info] Start training from score -2.950949\n",
      "0.7897144382017647\n",
      "Best Parameters: {'subsample': 0.6, 'reg_lambda': 1, 'reg_alpha': 0, 'num_leaves': 20, 'n_estimators': 200, 'max_depth': 10, 'learning_rate': 0.05, 'colsample_bytree': 0.8}\n",
      "Métricas para o limiar de 0.5 (50)\n",
      "ROC_AUC: 0.7135030923160159\n",
      "Log-loss: 9.239189818743698\n",
      "Precision: 0.12677423268227586\n",
      "Recall: 0.6798959011060507\n",
      "F1: 0.21370143149284254\n"
     ]
    },
    {
     "name": "stderr",
     "output_type": "stream",
     "text": [
      "2025/01/20 22:40:30 WARNING mlflow.models.model: Model logged without a signature and input example. Please set `input_example` parameter when logging the model to auto infer the model signature.\n",
      "Registered model 'LGBMClassifierModel' already exists. Creating a new version of this model...\n",
      "2025/01/20 22:40:34 INFO mlflow.store.model_registry.abstract_store: Waiting up to 300 seconds for model version to finish creation. Model name: LGBMClassifierModel, version 6\n",
      "Created version '6' of model 'LGBMClassifierModel'.\n"
     ]
    },
    {
     "name": "stdout",
     "output_type": "stream",
     "text": [
      "🏃 View run gaudy-perch-341 at: https://dagshub.com/renneruan/fraud-detection.mlflow/#/experiments/0/runs/e53ebf283e57444b8ff030f0daf0d8b1\n",
      "🧪 View experiment at: https://dagshub.com/renneruan/fraud-detection.mlflow/#/experiments/0\n"
     ]
    }
   ],
   "source": [
    "lgbm = LGBMClassifier(is_unbalance=True, random_state=42)\n",
    "\n",
    "# Define Hyperparameter Grid\n",
    "\n",
    "param_distributions = {\n",
    "    \"num_leaves\": [20, 31, 50, 70],\n",
    "    \"max_depth\": [-1, 10, 20],\n",
    "    \"learning_rate\": [0.01, 0.05, 0.1],\n",
    "    \"n_estimators\": [100, 200],\n",
    "    \"subsample\": [0.6, 0.8, 1.0],\n",
    "    \"colsample_bytree\": [0.6, 0.8, 1.0],\n",
    "    \"reg_alpha\": [0, 1, 10],\n",
    "    \"reg_lambda\": [0, 1, 10],\n",
    "    # \"scale_pos_weight\": [1, 10, 50],\n",
    "}\n",
    "\n",
    "mlflow.set_registry_uri(os.getenv(\"MLFLOW_TRACKING_URI\"))\n",
    "tracking_url_type_store = urlparse(mlflow.get_tracking_uri()).scheme\n",
    "\n",
    "with mlflow.start_run():\n",
    "    random_search = RandomizedSearchCV(\n",
    "        estimator=lgbm,\n",
    "        param_distributions=param_distributions,\n",
    "        n_iter=20,\n",
    "        scoring=\"roc_auc\",  # Use ROC-AUC as the evaluation metric\n",
    "        cv=3,  # 3-fold cross-validation\n",
    "        verbose=2,\n",
    "        n_jobs=-1,  # Use all available CPU cores\n",
    "        random_state=42,\n",
    "    )\n",
    "\n",
    "    best_model = random_search.fit(X_train_t, y_train)\n",
    "\n",
    "    print(random_search.best_score_)\n",
    "    print(\"Best Parameters:\", random_search.best_params_)\n",
    "    best_model = random_search.best_estimator_\n",
    "\n",
    "    mlflow.log_params(random_search.best_params_)\n",
    "\n",
    "    y_pred = best_model.predict_proba(X_test_t)[:, 1]\n",
    "\n",
    "    new_model_results = get_metrics(y_test, y_pred > 0.5)\n",
    "    metrics_dict = {metric: value for metric, value in new_model_results}\n",
    "\n",
    "    mlflow.log_metrics(metrics_dict)\n",
    "\n",
    "    if tracking_url_type_store != \"file\":\n",
    "        mlflow.sklearn.log_model(\n",
    "            best_model, \"model\", registered_model_name=\"LGBMClassifierModel\"\n",
    "        )\n",
    "    else:\n",
    "        mlflow.sklearn.log_model(best_model, \"model\")"
   ]
  },
  {
   "cell_type": "markdown",
   "metadata": {},
   "source": [
    "Após encontrarmos os melhores hiperparâmetros que se ajustam ao modelo, vamos extrair o vetor de predições dos nossos dados de teste, elencando adicionalmente as métricas de Precisão, Recall e Log-loss, além da visualização gráfica do modelo comparando com o modelo base fornecido em conjunto com a amostra."
   ]
  },
  {
   "cell_type": "code",
   "execution_count": 19,
   "metadata": {},
   "outputs": [
    {
     "data": {
      "text/plain": [
       "[('ROC_AUC', 0.7135030923160159),\n",
       " ('Log-loss', 9.239189818743698),\n",
       " ('Precision', 0.12677423268227586),\n",
       " ('Recall', 0.6798959011060507),\n",
       " ('F1', 0.21370143149284254)]"
      ]
     },
     "execution_count": 19,
     "metadata": {},
     "output_type": "execute_result"
    }
   ],
   "source": [
    "new_model_results"
   ]
  },
  {
   "cell_type": "markdown",
   "metadata": {},
   "source": [
    "### Comparação de Lucro e Métricas de Negócio"
   ]
  },
  {
   "cell_type": "markdown",
   "metadata": {},
   "source": [
    "Vamos construir um DataFrame contendo agora as colunas de predição do modelo atual e do modelo antigo."
   ]
  },
  {
   "cell_type": "code",
   "execution_count": 20,
   "metadata": {},
   "outputs": [],
   "source": [
    "X_test_evaluate = X_test\n",
    "\n",
    "# Multiplicamos por 100 pois a probabilidade vem em porcentagem\n",
    "X_test_evaluate[\"score_new_model\"] = y_pred * 100\n",
    "X_test_evaluate[\"fraude\"] = y_test"
   ]
  },
  {
   "cell_type": "markdown",
   "metadata": {},
   "source": [
    "Temos as seguintes métricas com o limiar padrão para o modelo antigo."
   ]
  },
  {
   "cell_type": "code",
   "execution_count": 21,
   "metadata": {},
   "outputs": [
    {
     "name": "stdout",
     "output_type": "stream",
     "text": [
      "Métricas para o limiar de 0.5 (50)\n",
      "ROC_AUC: 0.657363343857408\n",
      "Log-loss: 16.130736346742896\n",
      "Precision: 0.08339757516294063\n",
      "Recall: 0.7742355237475602\n",
      "F1: 0.15057573073516387\n"
     ]
    }
   ],
   "source": [
    "old_model_results = get_metrics(y_test, X_test_evaluate[\"score_fraude_modelo\"] > 50)"
   ]
  },
  {
   "cell_type": "code",
   "execution_count": 22,
   "metadata": {},
   "outputs": [],
   "source": [
    "def compare_metrics(results1, results2):\n",
    "    headers = [\"Métrica\", \"Model Novo\", \"Modelo Antigo\", \"Diferença\"]\n",
    "    table = []\n",
    "\n",
    "    for (metric1, value1), (_, value2) in zip(results1, results2):\n",
    "        difference = value1 - value2\n",
    "        table.append([metric1, f\"{value1:.4f}\", f\"{value2:.4f}\", f\"{difference:.4f}\"])\n",
    "\n",
    "    print(tabulate(table, headers=headers, tablefmt=\"grid\"))"
   ]
  },
  {
   "cell_type": "code",
   "execution_count": 23,
   "metadata": {},
   "outputs": [
    {
     "name": "stdout",
     "output_type": "stream",
     "text": [
      "+-----------+--------------+-----------------+-------------+\n",
      "| Métrica   |   Model Novo |   Modelo Antigo |   Diferença |\n",
      "+===========+==============+=================+=============+\n",
      "| ROC_AUC   |       0.7135 |          0.6574 |      0.0561 |\n",
      "+-----------+--------------+-----------------+-------------+\n",
      "| Log-loss  |       9.2392 |         16.1307 |     -6.8915 |\n",
      "+-----------+--------------+-----------------+-------------+\n",
      "| Precision |       0.1268 |          0.0834 |      0.0434 |\n",
      "+-----------+--------------+-----------------+-------------+\n",
      "| Recall    |       0.6799 |          0.7742 |     -0.0943 |\n",
      "+-----------+--------------+-----------------+-------------+\n",
      "| F1        |       0.2137 |          0.1506 |      0.0631 |\n",
      "+-----------+--------------+-----------------+-------------+\n"
     ]
    }
   ],
   "source": [
    "compare_metrics(new_model_results, old_model_results)"
   ]
  },
  {
   "cell_type": "markdown",
   "metadata": {},
   "source": [
    "Para o limiar padrão de 0.5, vemos uma melhoria do novo modelo principalmente no que tange a precisão e a log loss, mas com perdas para o Recall. Como devemos capturar o maior número de transações fraudulentas existentes, a queda no Recall pode ser um fator de melhoria e análise de adoção ao novo modelo.  "
   ]
  },
  {
   "cell_type": "code",
   "execution_count": 42,
   "metadata": {},
   "outputs": [
    {
     "data": {
      "image/png": "[encoded data removed]",
      "text/plain": [
       "<Figure size 800x800 with 2 Axes>"
      ]
     },
     "metadata": {},
     "output_type": "display_data"
    }
   ],
   "source": [
    "fig, ax = plt.subplots(2, 1, figsize=(8, 8))\n",
    "\n",
    "# Access the axes directly\n",
    "sns.kdeplot(\n",
    "    data=X_test_evaluate[X_test_evaluate[\"fraude\"] == 1],\n",
    "    x=\"score_new_model\",\n",
    "    ax=ax[0],\n",
    "    color=\"b\",\n",
    "    fill=True,\n",
    ")\n",
    "sns.kdeplot(\n",
    "    data=X_test_evaluate[X_test_evaluate[\"fraude\"] == 1],\n",
    "    x=\"score_fraude_modelo\",\n",
    "    ax=ax[0],\n",
    "    color=\"r\",\n",
    "    fill=True,\n",
    ")\n",
    "\n",
    "sns.kdeplot(\n",
    "    data=X_test_evaluate[X_test_evaluate[\"fraude\"] == 0],\n",
    "    x=\"score_new_model\",\n",
    "    ax=ax[1],\n",
    "    color=\"b\",\n",
    "    fill=True,\n",
    ")\n",
    "sns.kdeplot(\n",
    "    data=X_test_evaluate[X_test_evaluate[\"fraude\"] == 0],\n",
    "    x=\"score_fraude_modelo\",\n",
    "    ax=ax[1],\n",
    "    color=\"r\",\n",
    "    fill=True,\n",
    ")\n",
    "\n",
    "# Add titles and labels\n",
    "ax[0].set_title(\"Distribuição dos scores (fraude = 1)\")\n",
    "ax[0].set_xlabel(\"Score\")\n",
    "ax[0].set_ylabel(\"Densidade\")\n",
    "\n",
    "ax[1].set_title(\"Distribuição dos scores (fraude = 0)\")\n",
    "ax[1].set_xlabel(\"Score\")\n",
    "ax[1].set_ylabel(\"Densidade\")\n",
    "\n",
    "plt.tight_layout()\n",
    "plt.show()"
   ]
  },
  {
   "cell_type": "markdown",
   "metadata": {},
   "source": [
    "Percebemos um comportamento mais homogêneo nas predições do novo modelo (em azul), classificando também em valores intermediários de score."
   ]
  },
  {
   "cell_type": "markdown",
   "metadata": {},
   "source": [
    "Vamos comparar diretamente o modelo nas métricas de negócio levantadas no notebook de entendimento do negócio. Vamos reaproveitar o código construído para achar o limiar ótimo que gere maior rendimento para a empresa. Agora aplicados unicamente aos dados de teste."
   ]
  },
  {
   "cell_type": "code",
   "execution_count": 24,
   "metadata": {},
   "outputs": [
    {
     "name": "stdout",
     "output_type": "stream",
     "text": [
      "c:\\Users\\renne\\Documents\\Estudos Dados\\Repositórios\\ML\\fraud-detection\n"
     ]
    },
    {
     "name": "stderr",
     "output_type": "stream",
     "text": [
      "c:\\Users\\renne\\anaconda3\\envs\\fraud-detection\\Lib\\site-packages\\IPython\\core\\magics\\osm.py:417: UserWarning: This is now an optional IPython functionality, setting dhist requires you to install the `pickleshare` library.\n",
      "  self.shell.db['dhist'] = compress_dhist(dhist)[-100:]\n"
     ]
    }
   ],
   "source": [
    "%pwd\n",
    "%cd ..\n",
    "from src.features.base_metrics import BaseMetrics\n"
   ]
  },
  {
   "cell_type": "code",
   "execution_count": 25,
   "metadata": {},
   "outputs": [
    {
     "name": "stdout",
     "output_type": "stream",
     "text": [
      "O limiar ótimo encontrado para a amostra é de: 72\n",
      "Ganhos por transações aprovadas: R$ 80329.99\n",
      "Prejuízos com transações fraudulentas aprovadas: R$ 25353.32\n",
      "Receita gerada com limiar ótimo: R$ 54976.67\n",
      "Taxa de pressão de entrada é de 5.123333333333333%\n",
      "Taxa de aprovação total é de 73.37%\n",
      "Taxa de declínio total é de 25.66%\n",
      "A precisão do modelo é de 13.43%\n",
      "A revocação do modelo é de 68.21%\n",
      "A taxa de falsos positivos é de 23.64%\n"
     ]
    }
   ],
   "source": [
    "bm_old = BaseMetrics(X_test_evaluate, \"score_fraude_modelo\", \"fraude\", \"valor_compra\")\n",
    "\n",
    "bm_old.find_best_threshold()\n",
    "bm_old.show_all_metrics()"
   ]
  },
  {
   "cell_type": "code",
   "execution_count": 26,
   "metadata": {},
   "outputs": [
    {
     "name": "stdout",
     "output_type": "stream",
     "text": [
      "O limiar ótimo encontrado para a amostra é de: 65\n",
      "Ganhos por transações aprovadas: R$ 95794.86\n",
      "Prejuízos com transações fraudulentas aprovadas: R$ 33786.08\n",
      "Receita gerada com limiar ótimo: R$ 62008.78\n",
      "Taxa de pressão de entrada é de 5.123333333333333%\n",
      "Taxa de aprovação total é de 87.80%\n",
      "Taxa de declínio total é de 12.20%\n",
      "A precisão do modelo é de 20.00%\n",
      "A revocação do modelo é de 47.63%\n",
      "A taxa de falsos positivos é de 10.29%\n"
     ]
    }
   ],
   "source": [
    "bm_new = BaseMetrics(X_test_evaluate, \"score_new_model\", \"fraude\", \"valor_compra\")\n",
    "\n",
    "bm_new.find_best_threshold()\n",
    "bm_new.show_all_metrics()"
   ]
  },
  {
   "cell_type": "markdown",
   "metadata": {},
   "source": [
    "### Conclusão"
   ]
  },
  {
   "cell_type": "markdown",
   "metadata": {},
   "source": [
    "Com o novo modelo percebemos as seguintes alterações na predição de fraudes:\n",
    "\n",
    "- Melhoria da receita gerada para a amostra de **7032.11** para o intervalo da amostra.\n",
    "- Comportamento do modelo se tornou mais arriscado (limiar foi de 72 para 65), deixando de resgatar mais fraudes, porém permitindo aprovar mais transações legítimas. Este limiar no novo modelo trás um aumento de precisão de **6.57%**, enquanto a revocação diminui em **20.57%**.\n",
    "- Tal comportamento também foi refletido na diminuição de **13.35%** dos falsos positivos\n",
    "- Sem considerar os limiares ótimos calculados a métrica de log loss caiu de 16.1307 para 9.2392\n",
    "\n",
    "Considerando a melhoria da receita podemos concluir que o modelo possui um comportamento melhor para o negócio, em um cenário real deveriamos levar em conta a experiência do usuário no que tange a lidar com o tratamento de fraudes vs lidar com o declínio de transações, tais fatores e métricas podem gerar impacto nas reclamações e satisfações mesmo com uma métrica monetária satisfatória.\n"
   ]
  }
 ],
 "metadata": {
  "kernelspec": {
   "display_name": "fraud-detection",
   "language": "python",
   "name": "python3"
  },
  "language_info": {
   "codemirror_mode": {
    "name": "ipython",
    "version": 3
   },
   "file_extension": ".py",
   "mimetype": "text/x-python",
   "name": "python",
   "nbconvert_exporter": "python",
   "pygments_lexer": "ipython3",
   "version": "3.11.11"
  }
 },
 "nbformat": 4,
 "nbformat_minor": 2
}
