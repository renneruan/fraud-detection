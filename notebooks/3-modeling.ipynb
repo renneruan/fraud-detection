{
 "cells": [
  {
   "cell_type": "markdown",
   "metadata": {},
   "source": [
    "# Pré-processamento e criação do modelo\n",
    "\n",
    "Nesta etapa do projeto utilizaremos das informações coletadas na etapa de EDA para tratarmos nossas features visando uma melhor aplicação ao modelo. Trazendo nossos resultados do EDA, temos:\n",
    "\n",
    "- Vamos excluir as variáveis `score_8` e `produto`\n",
    "- Há variáveis discretas dentre as numéricas\n",
    "- Podemos aplicar a transformação log as variávels `score_3` e `valor_compra`\n",
    "- Podemos retirar os outliers relativos a `score_6` (> 483) e `score_5` (> 10)\n",
    "- A variável `pais` pode ser agrupada em continentes\n",
    "- Podemos transformar a variável `data_compra` em hora do dia, dia da semana e turno de compra.\n",
    "- Agrupar as categorias de produto que possuem menos que 3 ocorrências em coluna outros, se torna necessário testarmos com ou sem a adição dessa coluna."
   ]
  },
  {
   "cell_type": "code",
   "execution_count": 1,
   "metadata": {},
   "outputs": [
    {
     "name": "stderr",
     "output_type": "stream",
     "text": [
      "c:\\Users\\renne\\anaconda3\\envs\\fraud-detection\\Lib\\site-packages\\tqdm\\auto.py:21: TqdmWarning: IProgress not found. Please update jupyter and ipywidgets. See https://ipywidgets.readthedocs.io/en/stable/user_install.html\n",
      "  from .autonotebook import tqdm as notebook_tqdm\n"
     ]
    }
   ],
   "source": [
    "import os\n",
    "import pandas as pd\n",
    "import numpy as np\n",
    "from tabulate import tabulate\n",
    "\n",
    "import optuna\n",
    "import shap\n",
    "import mlflow\n",
    "import mlflow.sklearn\n",
    "from urllib.parse import urlparse\n",
    "\n",
    "from sklearn.model_selection import (\n",
    "    train_test_split,\n",
    "    KFold,\n",
    "    cross_val_score,\n",
    "    GridSearchCV,\n",
    ")\n",
    "\n",
    "import seaborn as sns\n",
    "import matplotlib.pyplot as plt\n",
    "from sklearn.ensemble import RandomForestClassifier\n",
    "from sklearn.tree import DecisionTreeClassifier\n",
    "from xgboost import XGBClassifier\n",
    "from lightgbm import LGBMClassifier\n",
    "from sklearn.metrics import (\n",
    "    roc_auc_score,\n",
    "    log_loss,\n",
    "    precision_score,\n",
    "    recall_score,\n",
    "    f1_score,\n",
    ")\n",
    "\n",
    "\n",
    "from sklearn.base import BaseEstimator, TransformerMixin\n",
    "from sklearn.pipeline import Pipeline\n",
    "from sklearn.impute import SimpleImputer\n",
    "from sklearn.preprocessing import TargetEncoder\n",
    "from sklearn.compose import ColumnTransformer\n",
    "import pycountry_convert as pc\n",
    "\n",
    "\n",
    "import warnings\n",
    "\n",
    "\n",
    "warnings.simplefilter(action=\"ignore\", category=FutureWarning)"
   ]
  },
  {
   "cell_type": "markdown",
   "metadata": {},
   "source": [
    "Vamos carregar e consultar novamente nossos dados, isso servirá como um parâmetro para como está o estado das variáveis e como queremos transformá-las. Queremos aplicar nossos dados a modelos de classificação que são baseados em árvores de decisão, prezando uma aderência a diversos modelos, vamos transformar as variáveis para valor numérico."
   ]
  },
  {
   "cell_type": "code",
   "execution_count": 2,
   "metadata": {},
   "outputs": [
    {
     "data": {
      "text/html": [
       "<div>\n",
       "<style scoped>\n",
       "    .dataframe tbody tr th:only-of-type {\n",
       "        vertical-align: middle;\n",
       "    }\n",
       "\n",
       "    .dataframe tbody tr th {\n",
       "        vertical-align: top;\n",
       "    }\n",
       "\n",
       "    .dataframe thead th {\n",
       "        text-align: right;\n",
       "    }\n",
       "</style>\n",
       "<table border=\"1\" class=\"dataframe\">\n",
       "  <thead>\n",
       "    <tr style=\"text-align: right;\">\n",
       "      <th></th>\n",
       "      <th>score_1</th>\n",
       "      <th>score_2</th>\n",
       "      <th>score_3</th>\n",
       "      <th>score_4</th>\n",
       "      <th>score_5</th>\n",
       "      <th>score_6</th>\n",
       "      <th>pais</th>\n",
       "      <th>score_7</th>\n",
       "      <th>produto</th>\n",
       "      <th>categoria_produto</th>\n",
       "      <th>score_8</th>\n",
       "      <th>score_9</th>\n",
       "      <th>score_10</th>\n",
       "      <th>entrega_doc_1</th>\n",
       "      <th>entrega_doc_2</th>\n",
       "      <th>entrega_doc_3</th>\n",
       "      <th>data_compra</th>\n",
       "      <th>valor_compra</th>\n",
       "      <th>score_fraude_modelo</th>\n",
       "      <th>fraude</th>\n",
       "    </tr>\n",
       "  </thead>\n",
       "  <tbody>\n",
       "    <tr>\n",
       "      <th>0</th>\n",
       "      <td>4</td>\n",
       "      <td>0.7685</td>\n",
       "      <td>94436.24</td>\n",
       "      <td>20.0</td>\n",
       "      <td>0.444828</td>\n",
       "      <td>1.0</td>\n",
       "      <td>BR</td>\n",
       "      <td>5</td>\n",
       "      <td>Máquininha Corta Barba Cabelo Peito Perna Pelo...</td>\n",
       "      <td>cat_8d714cd</td>\n",
       "      <td>0.883598</td>\n",
       "      <td>240.0</td>\n",
       "      <td>102.0</td>\n",
       "      <td>1</td>\n",
       "      <td>NaN</td>\n",
       "      <td>N</td>\n",
       "      <td>2020-03-27 11:51:16</td>\n",
       "      <td>5.64</td>\n",
       "      <td>66</td>\n",
       "      <td>0</td>\n",
       "    </tr>\n",
       "    <tr>\n",
       "      <th>1</th>\n",
       "      <td>4</td>\n",
       "      <td>0.7550</td>\n",
       "      <td>9258.50</td>\n",
       "      <td>1.0</td>\n",
       "      <td>0.000000</td>\n",
       "      <td>33.0</td>\n",
       "      <td>BR</td>\n",
       "      <td>0</td>\n",
       "      <td>Avental Descartavel Manga Longa  - 50 Un. Tnt ...</td>\n",
       "      <td>cat_64b574b</td>\n",
       "      <td>0.376019</td>\n",
       "      <td>4008.0</td>\n",
       "      <td>0.0</td>\n",
       "      <td>1</td>\n",
       "      <td>Y</td>\n",
       "      <td>N</td>\n",
       "      <td>2020-04-15 19:58:08</td>\n",
       "      <td>124.71</td>\n",
       "      <td>72</td>\n",
       "      <td>0</td>\n",
       "    </tr>\n",
       "    <tr>\n",
       "      <th>2</th>\n",
       "      <td>4</td>\n",
       "      <td>0.7455</td>\n",
       "      <td>242549.09</td>\n",
       "      <td>3.0</td>\n",
       "      <td>0.000000</td>\n",
       "      <td>19.0</td>\n",
       "      <td>AR</td>\n",
       "      <td>23</td>\n",
       "      <td>Bicicleta Mountain Fire Bird Rodado 29 Alumini...</td>\n",
       "      <td>cat_e9110c5</td>\n",
       "      <td>0.516368</td>\n",
       "      <td>1779.0</td>\n",
       "      <td>77.0</td>\n",
       "      <td>1</td>\n",
       "      <td>NaN</td>\n",
       "      <td>N</td>\n",
       "      <td>2020-03-25 18:13:38</td>\n",
       "      <td>339.32</td>\n",
       "      <td>95</td>\n",
       "      <td>0</td>\n",
       "    </tr>\n",
       "    <tr>\n",
       "      <th>3</th>\n",
       "      <td>4</td>\n",
       "      <td>0.7631</td>\n",
       "      <td>18923.90</td>\n",
       "      <td>50.0</td>\n",
       "      <td>0.482385</td>\n",
       "      <td>18.0</td>\n",
       "      <td>BR</td>\n",
       "      <td>23</td>\n",
       "      <td>Caneta Delineador Carimbo Olho Gatinho Longo 2...</td>\n",
       "      <td>cat_d06e653</td>\n",
       "      <td>0.154036</td>\n",
       "      <td>1704.0</td>\n",
       "      <td>1147.0</td>\n",
       "      <td>1</td>\n",
       "      <td>NaN</td>\n",
       "      <td>Y</td>\n",
       "      <td>2020-04-16 16:03:10</td>\n",
       "      <td>3.54</td>\n",
       "      <td>2</td>\n",
       "      <td>0</td>\n",
       "    </tr>\n",
       "    <tr>\n",
       "      <th>4</th>\n",
       "      <td>2</td>\n",
       "      <td>0.7315</td>\n",
       "      <td>5728.68</td>\n",
       "      <td>15.0</td>\n",
       "      <td>0.000000</td>\n",
       "      <td>1.0</td>\n",
       "      <td>BR</td>\n",
       "      <td>2</td>\n",
       "      <td>Resident Evil Operation Raccoon City Ps3</td>\n",
       "      <td>cat_6c4cfdc</td>\n",
       "      <td>0.855798</td>\n",
       "      <td>1025.0</td>\n",
       "      <td>150.0</td>\n",
       "      <td>1</td>\n",
       "      <td>NaN</td>\n",
       "      <td>N</td>\n",
       "      <td>2020-04-02 10:24:45</td>\n",
       "      <td>3.53</td>\n",
       "      <td>76</td>\n",
       "      <td>0</td>\n",
       "    </tr>\n",
       "  </tbody>\n",
       "</table>\n",
       "</div>"
      ],
      "text/plain": [
       "   score_1  score_2    score_3  score_4   score_5  score_6 pais  score_7  \\\n",
       "0        4   0.7685   94436.24     20.0  0.444828      1.0   BR        5   \n",
       "1        4   0.7550    9258.50      1.0  0.000000     33.0   BR        0   \n",
       "2        4   0.7455  242549.09      3.0  0.000000     19.0   AR       23   \n",
       "3        4   0.7631   18923.90     50.0  0.482385     18.0   BR       23   \n",
       "4        2   0.7315    5728.68     15.0  0.000000      1.0   BR        2   \n",
       "\n",
       "                                             produto categoria_produto  \\\n",
       "0  Máquininha Corta Barba Cabelo Peito Perna Pelo...       cat_8d714cd   \n",
       "1  Avental Descartavel Manga Longa  - 50 Un. Tnt ...       cat_64b574b   \n",
       "2  Bicicleta Mountain Fire Bird Rodado 29 Alumini...       cat_e9110c5   \n",
       "3  Caneta Delineador Carimbo Olho Gatinho Longo 2...       cat_d06e653   \n",
       "4           Resident Evil Operation Raccoon City Ps3       cat_6c4cfdc   \n",
       "\n",
       "    score_8  score_9  score_10  entrega_doc_1 entrega_doc_2 entrega_doc_3  \\\n",
       "0  0.883598    240.0     102.0              1           NaN             N   \n",
       "1  0.376019   4008.0       0.0              1             Y             N   \n",
       "2  0.516368   1779.0      77.0              1           NaN             N   \n",
       "3  0.154036   1704.0    1147.0              1           NaN             Y   \n",
       "4  0.855798   1025.0     150.0              1           NaN             N   \n",
       "\n",
       "           data_compra  valor_compra  score_fraude_modelo  fraude  \n",
       "0  2020-03-27 11:51:16          5.64                   66       0  \n",
       "1  2020-04-15 19:58:08        124.71                   72       0  \n",
       "2  2020-03-25 18:13:38        339.32                   95       0  \n",
       "3  2020-04-16 16:03:10          3.54                    2       0  \n",
       "4  2020-04-02 10:24:45          3.53                   76       0  "
      ]
     },
     "execution_count": 2,
     "metadata": {},
     "output_type": "execute_result"
    }
   ],
   "source": [
    "df = pd.read_csv(\"../artifacts/data_ingestion/dados.csv\")\n",
    "df.head()"
   ]
  },
  {
   "cell_type": "markdown",
   "metadata": {},
   "source": [
    "Vamos remover os outliers identificados na etapa de análise exploratória de dados. Para o `score_5` foi realizado uma escolha empírica de um limiar de 10, podemos verificar a aderência do modelo com e sem outliers."
   ]
  },
  {
   "cell_type": "code",
   "execution_count": 3,
   "metadata": {},
   "outputs": [],
   "source": [
    "df_sem_outliers = df[df[\"score_5\"] < 10]\n",
    "df_sem_outliers = df_sem_outliers[df_sem_outliers[\"score_6\"] < 483] # 483 é o quantil 0.99\n"
   ]
  },
  {
   "cell_type": "markdown",
   "metadata": {},
   "source": [
    "Após a remoção dos outliers, antes de qualquer processamento a ser aplicado a nossos dados devemos dividi-los em treino e teste para evitar vazamento de dados, ou seja nossos dados de teste não devem ser utilizados em treino, garantindo que possamos avaliar o modelo com qualidade e se ele se adapta a novos dados externos."
   ]
  },
  {
   "cell_type": "code",
   "execution_count": 4,
   "metadata": {},
   "outputs": [],
   "source": [
    "X = df_sem_outliers.drop(\"fraude\", axis=1)\n",
    "y = df_sem_outliers[\"fraude\"]\n",
    "\n",
    "X_train, X_test, y_train, y_test = train_test_split(\n",
    "    X, y, test_size=0.2, random_state=42\n",
    ")"
   ]
  },
  {
   "cell_type": "markdown",
   "metadata": {},
   "source": [
    "### Pipelines de pré-processamento"
   ]
  },
  {
   "cell_type": "markdown",
   "metadata": {},
   "source": [
    "Iremos construir as etapas de pré processamento como classes para serem aplicadas a um Pipeline, criamos uma `CustomClass` para carregar a herança do `BaseEstimator` e `TransformerMixin` para outros componentes, mas principalmente acoplando o comportamento da inicialização de colunas, além da sobrescrita do método fit para uma função dummy.\n",
    "\n",
    "Após a utilização desse notebook os códigos aqui apresentados serão repassados para o arquivo `src/fraud_detection/components/data_transformation`. Neste arquivo também será apresentado uma melhor documentação acerca das funções."
   ]
  },
  {
   "cell_type": "code",
   "execution_count": 5,
   "metadata": {},
   "outputs": [],
   "source": [
    "# Classe que servirá para o pai dos transformadores customizados\n",
    "class CustomProcessor(BaseEstimator, TransformerMixin):\n",
    "    def __init__(self):\n",
    "        pass\n",
    "\n",
    "    # O método fit é declarado para sobrescrever o fit padrão das classes do sklearn\n",
    "    def fit(self, X, y=None):\n",
    "        return self"
   ]
  },
  {
   "cell_type": "code",
   "execution_count": 6,
   "metadata": {},
   "outputs": [],
   "source": [
    "# Removedor de colunas que foram passadas na inicialização\n",
    "class DropColumns(CustomProcessor):\n",
    "    def __init__(self):\n",
    "        self.drop_columns = [\"score_fraude_modelo\", \"produto\", \"score_8\"]\n",
    "\n",
    "    def transform(self, X):\n",
    "        return X.drop(self.drop_columns, axis=1)"
   ]
  },
  {
   "cell_type": "markdown",
   "metadata": {},
   "source": [
    "Vamos processar as colunas de documentos, os valores nulos serão preeenchidos com \"N\" transforma os valores de texto para 0 ou 1 (N ou Y)."
   ]
  },
  {
   "cell_type": "code",
   "execution_count": 7,
   "metadata": {},
   "outputs": [],
   "source": [
    "class DocumentsProcessor(CustomProcessor):\n",
    "    def __init__(self):\n",
    "        self.document_columns = [\n",
    "            \"entrega_doc_1\",\n",
    "            \"entrega_doc_2\",\n",
    "            \"entrega_doc_3\"\n",
    "        ]\n",
    "\n",
    "    def transform(self, X):\n",
    "        X_new = X.copy()\n",
    "        X_new[self.document_columns] = X_new[self.document_columns].fillna(\"N\")\n",
    "        X_new[self.document_columns] = (X_new[self.document_columns] == \"Y\").astype(int)\n",
    "\n",
    "        return X_new"
   ]
  },
  {
   "cell_type": "markdown",
   "metadata": {},
   "source": [
    "O processador de datas, vamos criar as colunas de hora e dia da semana. Importante retirarmos a coluna inicial data_compra para evitar informações repetidas."
   ]
  },
  {
   "cell_type": "code",
   "execution_count": 8,
   "metadata": {},
   "outputs": [],
   "source": [
    "def hour_to_period(hour):\n",
    "    if 6 <= hour < 12:\n",
    "        return \"Manhã\"\n",
    "    elif 12 <= hour < 18:\n",
    "        return \"Tarde\"\n",
    "    elif 18 <= hour < 24:\n",
    "        return \"Noite\"\n",
    "    else:\n",
    "        return \"Madrugada\"\n",
    "\n",
    "class DateProcessor(CustomProcessor):\n",
    "    def __init__(self):\n",
    "        self.date_column = \"data_compra\"\n",
    "\n",
    "    def transform(self, X):\n",
    "        X_new = X.copy()\n",
    "        date = pd.to_datetime(X_new[self.date_column])\n",
    "\n",
    "        X_new[\"hora_compra\"] = date.dt.hour\n",
    "        X_new[\"dia_compra\"] = date.dt.dayofweek\n",
    "        X_new[\"turno_compra\"] = X_new[\"hora_compra\"].apply(hour_to_period)\n",
    "\n",
    "        X_new = X_new.drop(self.date_column, axis=1)\n",
    "\n",
    "\n",
    "        return X_new"
   ]
  },
  {
   "cell_type": "markdown",
   "metadata": {},
   "source": [
    "Para variáveis categóricas vamos aplicar o OneHotEncoding para variáveis com menor cardinalidade."
   ]
  },
  {
   "cell_type": "code",
   "execution_count": 9,
   "metadata": {},
   "outputs": [],
   "source": [
    "class OneHotEncoderProcessor(CustomProcessor):\n",
    "    def __init__(self):\n",
    "        self.columns_to_encode = [\"score_1\", \"continente\", \"turno_compra\"]\n",
    "\n",
    "    def transform(self, X):\n",
    "        X_encoded = pd.get_dummies(\n",
    "            X, columns=self.columns_to_encode, dtype=int\n",
    "        )\n",
    "\n",
    "        return X_encoded"
   ]
  },
  {
   "cell_type": "markdown",
   "metadata": {},
   "source": [
    "A classe `ImputeValuesProcessor` é a de maior complexidade devido a necessidade de processar variáveis discretas e contínuas, e aplicá-las ao `ColumnTransformer`. Esta abordagem foi escolhida pois as transformações de saída do `ColumnTransformer` transforma o DataFrame em um array Numpy sem as informações de rótulos de colunas.\n",
    "\n",
    "Precisamos resgatar os nomes de colunas e transformar novamente em um DataFrame para aplicá-los ao pipeline de transformação.\n",
    "\n",
    "Para o preenchimento de valores vazios iremos utilizar a mediana para variáveis contínuas e a moda para variáveis discretas.\n"
   ]
  },
  {
   "cell_type": "code",
   "execution_count": 10,
   "metadata": {},
   "outputs": [],
   "source": [
    "class ImputeValuesProcessor(BaseEstimator, TransformerMixin):\n",
    "\n",
    "    def __init__(self):\n",
    "        self.discrete_columns = [\"score_4\", \"score_7\"]\n",
    "        self.continuous_columns = [\n",
    "            \"score_2\",\n",
    "            \"score_3\",\n",
    "            \"score_5\",\n",
    "            \"score_6\",\n",
    "            \"score_9\",\n",
    "            \"score_10\",\n",
    "            \"valor_compra\",\n",
    "        ]\n",
    "\n",
    "        self.numerical_imputer = ColumnTransformer(\n",
    "            transformers=[\n",
    "                (\n",
    "                    \"discrete\",\n",
    "                    SimpleImputer(strategy=\"most_frequent\"),\n",
    "                    self.discrete_columns,\n",
    "                ),\n",
    "                (\n",
    "                    \"continuous\",\n",
    "                    SimpleImputer(strategy=\"median\"),\n",
    "                    self.continuous_columns,\n",
    "                ),\n",
    "            ],\n",
    "            remainder=\"passthrough\",\n",
    "        )\n",
    "\n",
    "    def _get_column_names(self, X):\n",
    "        transformed_columns = (\n",
    "            self.discrete_columns\n",
    "            + self.continuous_columns\n",
    "            + [\n",
    "                col\n",
    "                for col in X.columns\n",
    "                if col not in self.discrete_columns + self.continuous_columns\n",
    "            ]\n",
    "        )\n",
    "        return transformed_columns\n",
    "    \n",
    "    def fit(self, X, y=None):\n",
    "\n",
    "        self.numerical_imputer.fit(X)\n",
    "        return self\n",
    "\n",
    "    def transform(self, X):\n",
    "        X_transformed = self.numerical_imputer.transform(X)\n",
    "        X_transformed = pd.DataFrame(\n",
    "            X_transformed, columns=self._get_column_names(X)\n",
    "        )\n",
    "\n",
    "        return X_transformed"
   ]
  },
  {
   "cell_type": "markdown",
   "metadata": {},
   "source": [
    "Aqui iremos aplicar as transformações numéricas as colunas possívels, sendo a transformação log e raiz cúbica."
   ]
  },
  {
   "cell_type": "code",
   "execution_count": 11,
   "metadata": {},
   "outputs": [],
   "source": [
    "class TransformColumns(CustomProcessor):\n",
    "    def __init__(self):\n",
    "        self.log_columns = [\"score_3\", \"valor_compra\"]\n",
    "        \n",
    "    def transform(self, X):\n",
    "        X_new = X.copy()\n",
    "\n",
    "        for col in self.log_columns:\n",
    "            X_new[f\"log_{col}\"] = np.log1p(X_new[col].astype(float))\n",
    "\n",
    "        X_new = X_new.drop(\n",
    "            self.log_columns,\n",
    "            axis=1\n",
    "        )\n",
    "\n",
    "        return X_new"
   ]
  },
  {
   "cell_type": "markdown",
   "metadata": {},
   "source": [
    "O processador de país irá transformar a coluna em continentes, agrupando em apenas 5 categorias."
   ]
  },
  {
   "cell_type": "code",
   "execution_count": 12,
   "metadata": {},
   "outputs": [],
   "source": [
    "class CountryProcessor(CustomProcessor):\n",
    "    def __init__(self):\n",
    "        self.country_column = \"pais\"\n",
    "    def transform(self, X):\n",
    "        X_new = X.copy()\n",
    "        X_new[self.country_column] = X_new[self.country_column].fillna(\n",
    "            X_new[self.country_column].mode()[0]\n",
    "        )\n",
    "\n",
    "        X_new[\"continente\"] = X_new[self.country_column].apply(\n",
    "            lambda x: pc.country_alpha2_to_continent_code(x)\n",
    "        )\n",
    "\n",
    "        X_new = X_new.drop(self.country_column, axis=1)\n",
    "\n",
    "        return X_new"
   ]
  },
  {
   "cell_type": "code",
   "execution_count": 13,
   "metadata": {},
   "outputs": [],
   "source": [
    "pipeline = Pipeline(\n",
    "    [\n",
    "        (\"dropper\", DropColumns()),\n",
    "        (\"imputer\", ImputeValuesProcessor()),\n",
    "        (\"docs\", DocumentsProcessor()),\n",
    "        (\"date\", DateProcessor()),\n",
    "        (\"country\", CountryProcessor()),\n",
    "        (\"encoder\", OneHotEncoderProcessor()),\n",
    "        (\"transform\", TransformColumns()),\n",
    "    ]\n",
    ")"
   ]
  },
  {
   "cell_type": "code",
   "execution_count": 14,
   "metadata": {},
   "outputs": [],
   "source": [
    "X_train_transformed = pipeline.fit_transform(X_train)\n",
    "X_test_transformed = pipeline.transform(X_test)"
   ]
  },
  {
   "cell_type": "markdown",
   "metadata": {},
   "source": [
    "Vamos tratar as colunas categoricas restantes separadamente, juntando os valores não frequentes de `categoria_produto` em uma categoria outros."
   ]
  },
  {
   "cell_type": "code",
   "execution_count": 15,
   "metadata": {},
   "outputs": [],
   "source": [
    "def group_non_frequent_categories(series, threshold=2):\n",
    "    frequent_categories = series.value_counts()\n",
    "    valid_categories = frequent_categories[frequent_categories > threshold].index\n",
    "\n",
    "    series_reduced = series.copy()\n",
    "    series_reduced.loc[~series_reduced.isin(valid_categories)] = \"Outros\"\n",
    "\n",
    "    return series_reduced\n",
    "\n",
    "X_train_transformed[\"categoria_produto_reduzida\"] = group_non_frequent_categories(\n",
    "    X_train_transformed[\"categoria_produto\"]\n",
    ")\n",
    "X_test_transformed[\"categoria_produto_reduzida\"] = group_non_frequent_categories(\n",
    "    X_test_transformed[\"categoria_produto\"]\n",
    ")   \n",
    "\n",
    "X_train_transformed = X_train_transformed.drop(\"categoria_produto\", axis=1)\n",
    "X_test_transformed = X_test_transformed.drop(\"categoria_produto\", axis=1)"
   ]
  },
  {
   "cell_type": "markdown",
   "metadata": {},
   "source": [
    "Vamos agora aplicar o TargetEncoding para estas colunas categóricas.\n",
    "\n",
    "Devemos utilizar os dados de treino para fazer o fit do TargetEncoding para apenas transformarmos os dados de teste."
   ]
  },
  {
   "cell_type": "code",
   "execution_count": 16,
   "metadata": {},
   "outputs": [],
   "source": [
    "category_column = [\"categoria_produto_reduzida\"]\n",
    "\n",
    "# Transforma a série para um dataframe para ser aplicado ao fit transform do target encoder\n",
    "target_encoder = TargetEncoder(shuffle=False)\n",
    "\n",
    "X_train_transformed[category_column] = target_encoder.fit_transform(\n",
    "    X_train_transformed[category_column], y_train\n",
    ")\n",
    "X_test_transformed[category_column] = target_encoder.transform(X_test_transformed[category_column])"
   ]
  },
  {
   "cell_type": "markdown",
   "metadata": {},
   "source": [
    "Por último realizamos as últimas conversões as colunas que foram transformadas para garantirmos que sejam numéricas."
   ]
  },
  {
   "cell_type": "code",
   "execution_count": 17,
   "metadata": {},
   "outputs": [],
   "source": [
    "def convert_to_numeric(df):\n",
    "    new_df = df.copy()\n",
    "    for col in new_df.select_dtypes(include=[\"object\"]).columns:\n",
    "        try:\n",
    "            new_df[col] = pd.to_numeric(new_df[col], errors=\"coerce\")\n",
    "        except ValueError as e:\n",
    "            print(e)\n",
    "            pass\n",
    "\n",
    "    return new_df\n",
    "\n",
    "\n",
    "X_train_transformed = convert_to_numeric(X_train_transformed)\n",
    "X_test_transformed = convert_to_numeric(X_test_transformed)"
   ]
  },
  {
   "cell_type": "markdown",
   "metadata": {},
   "source": [
    "Verificamos que todas as colunas foram alteradas e transformadas para valores numericos a seguir."
   ]
  },
  {
   "cell_type": "code",
   "execution_count": 18,
   "metadata": {},
   "outputs": [
    {
     "data": {
      "text/plain": [
       "score_4                       float64\n",
       "score_7                       float64\n",
       "score_2                       float64\n",
       "score_5                       float64\n",
       "score_6                       float64\n",
       "score_9                       float64\n",
       "score_10                      float64\n",
       "entrega_doc_1                   int32\n",
       "entrega_doc_2                   int32\n",
       "entrega_doc_3                   int32\n",
       "hora_compra                     int32\n",
       "dia_compra                      int32\n",
       "score_1_1                       int32\n",
       "score_1_2                       int32\n",
       "score_1_3                       int32\n",
       "score_1_4                       int32\n",
       "continente_AF                   int32\n",
       "continente_AS                   int32\n",
       "continente_EU                   int32\n",
       "continente_NA                   int32\n",
       "continente_OC                   int32\n",
       "continente_SA                   int32\n",
       "turno_compra_Madrugada          int32\n",
       "turno_compra_Manhã              int32\n",
       "turno_compra_Noite              int32\n",
       "turno_compra_Tarde              int32\n",
       "log_score_3                   float64\n",
       "log_valor_compra              float64\n",
       "categoria_produto_reduzida    float64\n",
       "dtype: object"
      ]
     },
     "execution_count": 18,
     "metadata": {},
     "output_type": "execute_result"
    }
   ],
   "source": [
    "X_train_transformed.dtypes"
   ]
  },
  {
   "cell_type": "code",
   "execution_count": 19,
   "metadata": {},
   "outputs": [],
   "source": [
    "X_train_transformed, X_test_transformed = X_train_transformed.align(\n",
    "    X_test_transformed, join='left', axis=1, fill_value=0\n",
    ")"
   ]
  },
  {
   "cell_type": "markdown",
   "metadata": {},
   "source": [
    "### Treinamento de modelos"
   ]
  },
  {
   "cell_type": "markdown",
   "metadata": {},
   "source": [
    "Foram escolhidos modelos de classificação que funcionam baseando-se em árvores de decisão. Fizemos uma comparação entre os seguintes modelos:\n",
    "- Random Forest\n",
    "- XGBoost\n",
    "- LightGBM\n",
    "- DecisionTree\n",
    "\n",
    "Tendo em vista que estamos lidando com dados desbalanceados, designamos hiperparâmetros dos modelos para lidar com essa problemática no conjunto de dados. "
   ]
  },
  {
   "cell_type": "code",
   "execution_count": 20,
   "metadata": {},
   "outputs": [
    {
     "data": {
      "text/plain": [
       "18.729433272394882"
      ]
     },
     "execution_count": 20,
     "metadata": {},
     "output_type": "execute_result"
    }
   ],
   "source": [
    "scale_pos_weight = y_train.value_counts()[0] / y_train.value_counts()[1]\n",
    "scale_pos_weight"
   ]
  },
  {
   "cell_type": "code",
   "execution_count": 21,
   "metadata": {},
   "outputs": [],
   "source": [
    "models = [\n",
    "    (\n",
    "        \"Random Forest\",\n",
    "        RandomForestClassifier(\n",
    "            n_estimators=100,\n",
    "            class_weight=\"balanced\",\n",
    "            random_state=42\n",
    "        ),\n",
    "    ),\n",
    "    (\n",
    "        \"Decision Tree\",\n",
    "        DecisionTreeClassifier(\n",
    "            class_weight=\"balanced\",\n",
    "            random_state=42\n",
    "        ),\n",
    "    ),\n",
    "    (\n",
    "        \"XGBoost\",\n",
    "        XGBClassifier(\n",
    "            scale_pos_weight=round(scale_pos_weight),\n",
    "            random_state=42\n",
    "        )\n",
    "    ),\n",
    "    (\n",
    "        \"LightGBM\",\n",
    "        LGBMClassifier(\n",
    "            scale_pos_weight=round(scale_pos_weight),\n",
    "            random_state=42,\n",
    "            verbosity=-1\n",
    "        )\n",
    "    )\n",
    "]"
   ]
  },
  {
   "cell_type": "code",
   "execution_count": 22,
   "metadata": {},
   "outputs": [],
   "source": [
    "def evaluate_model_with_kfold(models, X_train, y_train, metric):\n",
    "    results = []\n",
    "    for name, model in models:\n",
    "        kfold = KFold(n_splits=4, random_state=42, shuffle=True)\n",
    "        cv_results = cross_val_score(\n",
    "            model, X_train, y_train, cv=kfold, scoring=metric\n",
    "        )\n",
    "\n",
    "        results.append(cv_results)\n",
    "        msg = \"%s: %f (%f)\" % (\n",
    "            name,\n",
    "            cv_results.mean(),\n",
    "            cv_results.std(),\n",
    "        )\n",
    "        print(msg)"
   ]
  },
  {
   "cell_type": "code",
   "execution_count": 23,
   "metadata": {},
   "outputs": [
    {
     "name": "stdout",
     "output_type": "stream",
     "text": [
      "Random Forest: 0.766075 (0.004223)\n",
      "Decision Tree: 0.562440 (0.002677)\n",
      "XGBoost: 0.757957 (0.002621)\n",
      "LightGBM: 0.785909 (0.003119)\n"
     ]
    }
   ],
   "source": [
    "evaluate_model_with_kfold(models, X_train_transformed, y_train, \"roc_auc\")"
   ]
  },
  {
   "cell_type": "code",
   "execution_count": 24,
   "metadata": {},
   "outputs": [
    {
     "name": "stdout",
     "output_type": "stream",
     "text": [
      "Random Forest: 0.071485 (0.004035)\n",
      "Decision Tree: 0.170453 (0.005926)\n",
      "XGBoost: 0.508942 (0.006839)\n",
      "LightGBM: 0.663082 (0.005837)\n"
     ]
    }
   ],
   "source": [
    "evaluate_model_with_kfold(models, X_train_transformed, y_train, \"recall\")"
   ]
  },
  {
   "cell_type": "code",
   "execution_count": 25,
   "metadata": {},
   "outputs": [
    {
     "name": "stdout",
     "output_type": "stream",
     "text": [
      "Random Forest: 0.871190 (0.027241)\n",
      "Decision Tree: 0.166471 (0.004605)\n",
      "XGBoost: 0.151615 (0.005136)\n",
      "LightGBM: 0.131867 (0.004274)\n"
     ]
    }
   ],
   "source": [
    "evaluate_model_with_kfold(models, X_train_transformed, y_train, \"precision\")"
   ]
  },
  {
   "cell_type": "code",
   "execution_count": 26,
   "metadata": {},
   "outputs": [
    {
     "name": "stdout",
     "output_type": "stream",
     "text": [
      "Random Forest: 0.132096 (0.006972)\n",
      "Decision Tree: 0.168358 (0.003788)\n",
      "XGBoost: 0.233603 (0.006630)\n",
      "LightGBM: 0.219966 (0.006212)\n"
     ]
    }
   ],
   "source": [
    "evaluate_model_with_kfold(models, X_train_transformed, y_train, \"f1\")"
   ]
  },
  {
   "cell_type": "markdown",
   "metadata": {},
   "source": [
    "Os modelos que obtiveram o melhor desempenho foram `LightGBM` e `RandomForest`, enquanto o pior desempenho foi obtido pela `Decision Tree`. Vamos utilizar o `LightGBM` por apresentar uma maior métrica de AUC e Recall. Além de ser um modelo mais eficiente e de escalabilidade para conjuntos maiores. Vamos realizar uma busca dos melhores hiperparâmetros utilizando o otimizador Optuna."
   ]
  },
  {
   "cell_type": "code",
   "execution_count": 27,
   "metadata": {},
   "outputs": [],
   "source": [
    "def get_metrics(y_true, y_pred):\n",
    "    metrics = [\n",
    "        (\"ROC_AUC\", roc_auc_score(y_true, y_pred)),\n",
    "        (\"Log-loss\", log_loss(y_true, y_pred)),\n",
    "        (\"Precision\", precision_score(y_true, y_pred)),\n",
    "        (\"Recall\", recall_score(y_true, y_pred)),\n",
    "        (\"F1\", f1_score(y_true, y_pred)),\n",
    "    ]\n",
    "\n",
    "    print(\"Métricas para o limiar de 0.5 (50)\")\n",
    "    for name, value in metrics:\n",
    "        print(f\"{name}: {value}\")\n",
    "\n",
    "    return metrics"
   ]
  },
  {
   "cell_type": "code",
   "execution_count": 28,
   "metadata": {},
   "outputs": [
    {
     "name": "stdout",
     "output_type": "stream",
     "text": [
      "Melhores Hiperparâmetros: {'max_depth': 8, 'num_leaves': 54, 'learning_rate': 0.014943986178804566, 'n_estimators': 455, 'subsample': 0.6507631810615698, 'colsample_bytree': 0.5601655044537822, 'reg_lambda': 0.14502516392192977}\n"
     ]
    }
   ],
   "source": [
    "def objective(trial):\n",
    "    params = {\n",
    "        \"objective\": \"binary\",\n",
    "        \"metric\": \"auc\",\n",
    "        \"boosting_type\": \"gbdt\",\n",
    "        \"verbosity\": -1,\n",
    "        \n",
    "        # Tuning de hiperparâmetros a partir do Optuna\n",
    "        \"max_depth\": trial.suggest_int(\"max_depth\", 3, 15),\n",
    "        \"num_leaves\": trial.suggest_int(\"num_leaves\", 8, 256),\n",
    "        \"learning_rate\": trial.suggest_float(\"learning_rate\", 0.01, 0.3, log=True),\n",
    "        \"n_estimators\": trial.suggest_int(\"n_estimators\", 50, 1000),\n",
    "        \"subsample\": trial.suggest_float(\"subsample\", 0.5, 1.0),\n",
    "        \"colsample_bytree\": trial.suggest_float(\"colsample_bytree\", 0.5, 1.0),\n",
    "        \"reg_lambda\": trial.suggest_float(\"reg_lambda\", 0.1, 10.0, log=True),\n",
    "    }\n",
    "\n",
    "    model = LGBMClassifier(**params)\n",
    "    scores = cross_val_score(model, X_train_transformed, y_train, cv=3, scoring=\"roc_auc\", n_jobs=-1)\n",
    "    \n",
    "    return scores.mean()\n",
    "\n",
    "optuna.logging.set_verbosity(optuna.logging.WARNING)\n",
    "\n",
    "study = optuna.create_study(direction=\"maximize\")\n",
    "study.optimize(objective, n_trials=50)\n",
    "\n",
    "print(\"Melhores Hiperparâmetros:\", study.best_params)"
   ]
  },
  {
   "cell_type": "code",
   "execution_count": 29,
   "metadata": {},
   "outputs": [
    {
     "data": {
      "text/plain": [
       "0.7934745333617408"
      ]
     },
     "execution_count": 29,
     "metadata": {},
     "output_type": "execute_result"
    }
   ],
   "source": [
    "study.best_value"
   ]
  },
  {
   "cell_type": "code",
   "execution_count": 30,
   "metadata": {},
   "outputs": [
    {
     "name": "stdout",
     "output_type": "stream",
     "text": [
      "Métricas para o limiar de 0.5 (50)\n",
      "ROC_AUC: 0.7211274862745015\n",
      "Log-loss: 8.34084071149488\n",
      "Precision: 0.1323549395298274\n",
      "Recall: 0.668496911461908\n",
      "F1: 0.22096188747731396\n"
     ]
    }
   ],
   "source": [
    "\n",
    "best_params = study.best_params\n",
    "\n",
    "X_test_transformed[\"continente_AS\"] = 1\n",
    "\n",
    "model = LGBMClassifier(**best_params)\n",
    "model.set_params(scale_pos_weight=scale_pos_weight, random_state=42)\n",
    "\n",
    "model.fit(X_train_transformed, y_train)\n",
    "\n",
    "y_pred = model.predict_proba(X_test_transformed)[:, 1]\n",
    "\n",
    "new_model_results = get_metrics(y_test, y_pred > 0.5)\n",
    "metrics_dict = {metric: value for metric, value in new_model_results}\n"
   ]
  },
  {
   "cell_type": "code",
   "execution_count": 31,
   "metadata": {},
   "outputs": [
    {
     "name": "stdout",
     "output_type": "stream",
     "text": [
      "Métricas para o limiar de 0.5 (50)\n",
      "ROC_AUC: 0.7211274862745015\n",
      "Log-loss: 8.34084071149488\n",
      "Precision: 0.1323549395298274\n",
      "Recall: 0.668496911461908\n",
      "F1: 0.22096188747731396\n"
     ]
    },
    {
     "name": "stderr",
     "output_type": "stream",
     "text": [
      "c:\\Users\\renne\\anaconda3\\envs\\fraud-detection\\Lib\\site-packages\\mlflow\\types\\utils.py:435: UserWarning: Hint: Inferred schema contains integer column(s). Integer columns in Python cannot represent missing values. If your input data contains missing values at inference time, it will be encoded as floats and will cause a schema enforcement error. The best way to avoid this problem is to infer the model schema based on a realistic data sample (training dataset) that includes missing values. Alternatively, you can declare integer columns as doubles (float64) whenever these columns may have missing values. See `Handling Integers With Missing Values <https://www.mlflow.org/docs/latest/models.html#handling-integers-with-missing-values>`_ for more details.\n",
      "  warnings.warn(\n",
      "c:\\Users\\renne\\anaconda3\\envs\\fraud-detection\\Lib\\site-packages\\mlflow\\types\\utils.py:435: UserWarning: Hint: Inferred schema contains integer column(s). Integer columns in Python cannot represent missing values. If your input data contains missing values at inference time, it will be encoded as floats and will cause a schema enforcement error. The best way to avoid this problem is to infer the model schema based on a realistic data sample (training dataset) that includes missing values. Alternatively, you can declare integer columns as doubles (float64) whenever these columns may have missing values. See `Handling Integers With Missing Values <https://www.mlflow.org/docs/latest/models.html#handling-integers-with-missing-values>`_ for more details.\n",
      "  warnings.warn(\n",
      "Downloading artifacts: 100%|██████████| 7/7 [00:00<00:00, 462.27it/s]\n",
      "Registered model 'LGBMClassifierModel' already exists. Creating a new version of this model...\n",
      "2025/01/30 22:43:07 INFO mlflow.store.model_registry.abstract_store: Waiting up to 300 seconds for model version to finish creation. Model name: LGBMClassifierModel, version 20\n",
      "Created version '20' of model 'LGBMClassifierModel'.\n"
     ]
    },
    {
     "name": "stdout",
     "output_type": "stream",
     "text": [
      "🏃 View run grandiose-snipe-718 at: https://dagshub.com/renneruan/fraud-detection.mlflow/#/experiments/0/runs/1f42a847d4104ef38e8387a23306ea2b\n",
      "🧪 View experiment at: https://dagshub.com/renneruan/fraud-detection.mlflow/#/experiments/0\n"
     ]
    }
   ],
   "source": [
    "mlflow.set_registry_uri(os.getenv(\"MLFLOW_TRACKING_URI\"))\n",
    "tracking_url_type_store = urlparse(mlflow.get_tracking_uri()).scheme\n",
    "\n",
    "new_model_results = []\n",
    "metrics_dict = {}\n",
    "with mlflow.start_run():\n",
    "    best_params = study.best_params\n",
    "    mlflow.log_params(best_params)\n",
    "\n",
    "    model = LGBMClassifier(**best_params)\n",
    "    model.set_params(scale_pos_weight=scale_pos_weight, random_state=42)\n",
    "\n",
    "    model.fit(X_train_transformed, y_train)\n",
    "\n",
    "    y_pred = model.predict_proba(X_test_transformed)[:, 1]\n",
    "\n",
    "    new_model_results = get_metrics(y_test, y_pred > 0.5)\n",
    "    metrics_dict = {metric: value for metric, value in new_model_results}\n",
    "\n",
    "    mlflow.log_metrics(metrics_dict)\n",
    "\n",
    "    try:\n",
    "        if tracking_url_type_store != \"file\":\n",
    "            mlflow.sklearn.log_model(\n",
    "                model,\n",
    "                \"model\",\n",
    "                registered_model_name=\"LGBMClassifierModel\",\n",
    "                input_example=X_train_transformed.head(1),\n",
    "            )\n",
    "        else:\n",
    "            mlflow.sklearn.log_model(model, \"model\")\n",
    "    except mlflow.exceptions.MlflowException as e:\n",
    "        print(f\"Model registry não disponível. Log em modo local, erro: {e}\")\n",
    "        mlflow.sklearn.log_model(model, \"model\")"
   ]
  },
  {
   "cell_type": "markdown",
   "metadata": {},
   "source": [
    "Após encontrarmos os melhores hiperparâmetros que se ajustam ao modelo, vamos extrair o vetor de predições dos nossos dados de teste, elencando adicionalmente as métricas de Precisão, Recall e Log-loss, além da visualização gráfica do modelo comparando com o modelo base fornecido em conjunto com a amostra."
   ]
  },
  {
   "cell_type": "code",
   "execution_count": 32,
   "metadata": {},
   "outputs": [
    {
     "data": {
      "text/plain": [
       "[('ROC_AUC', 0.7211274862745015),\n",
       " ('Log-loss', 8.34084071149488),\n",
       " ('Precision', 0.1323549395298274),\n",
       " ('Recall', 0.668496911461908),\n",
       " ('F1', 0.22096188747731396)]"
      ]
     },
     "execution_count": 32,
     "metadata": {},
     "output_type": "execute_result"
    }
   ],
   "source": [
    "new_model_results"
   ]
  },
  {
   "cell_type": "markdown",
   "metadata": {},
   "source": [
    "Vamos utilizar o SHAP para verificarmos quais features tiveram mais influência no modelo."
   ]
  },
  {
   "cell_type": "code",
   "execution_count": 33,
   "metadata": {},
   "outputs": [
    {
     "name": "stderr",
     "output_type": "stream",
     "text": [
      "c:\\Users\\renne\\anaconda3\\envs\\fraud-detection\\Lib\\site-packages\\shap\\explainers\\_tree.py:448: UserWarning: LightGBM binary classifier with TreeExplainer shap values output has changed to a list of ndarray\n",
      "  warnings.warn('LightGBM binary classifier with TreeExplainer shap values output has changed to a list of ndarray')\n"
     ]
    }
   ],
   "source": [
    "explainer = shap.Explainer(model)\n",
    "shap_values = explainer.shap_values(X_test_transformed)"
   ]
  },
  {
   "cell_type": "code",
   "execution_count": null,
   "metadata": {},
   "outputs": [
    {
     "data": {
      "image/png": "[encoded data removed]",
      "text/plain": [
       "<Figure size 800x950 with 2 Axes>"
      ]
     },
     "metadata": {},
     "output_type": "display_data"
    }
   ],
   "source": [
    "shap.summary_plot(shap_values, X_test_transformed)"
   ]
  },
  {
   "cell_type": "markdown",
   "metadata": {},
   "source": [
    "### Comparação de Lucro e Métricas de Negócio"
   ]
  },
  {
   "cell_type": "markdown",
   "metadata": {},
   "source": [
    "Vamos construir um DataFrame contendo agora as colunas de predição do modelo atual e do modelo antigo."
   ]
  },
  {
   "cell_type": "code",
   "execution_count": 35,
   "metadata": {},
   "outputs": [],
   "source": [
    "X_test_evaluate = X_test\n",
    "\n",
    "# Multiplicamos por 100 pois a probabilidade vem em porcentagem\n",
    "X_test_evaluate[\"score_new_model\"] = y_pred * 100\n",
    "X_test_evaluate[\"fraude\"] = y_test"
   ]
  },
  {
   "cell_type": "markdown",
   "metadata": {},
   "source": [
    "Temos as seguintes métricas com o limiar padrão para o modelo antigo."
   ]
  },
  {
   "cell_type": "code",
   "execution_count": 36,
   "metadata": {},
   "outputs": [
    {
     "name": "stdout",
     "output_type": "stream",
     "text": [
      "Métricas para o limiar de 0.5 (50)\n",
      "ROC_AUC: 0.6518338740587362\n",
      "Log-loss: 16.214118278853835\n",
      "Precision: 0.07888401076334797\n",
      "Recall: 0.7645847632120796\n",
      "F1: 0.1430130303613839\n"
     ]
    }
   ],
   "source": [
    "old_model_results = get_metrics(\n",
    "    y_test, X_test_evaluate[\"score_fraude_modelo\"] > 50\n",
    ")"
   ]
  },
  {
   "cell_type": "code",
   "execution_count": 37,
   "metadata": {},
   "outputs": [],
   "source": [
    "def compare_metrics(results1, results2):\n",
    "    headers = [\"Métrica\", \"Model Novo\", \"Modelo Antigo\", \"Diferença\"]\n",
    "    table = []\n",
    "\n",
    "    for (metric1, value1), (_, value2) in zip(results1, results2):\n",
    "        difference = value1 - value2\n",
    "        table.append(\n",
    "            [metric1, f\"{value1:.4f}\", f\"{value2:.4f}\", f\"{difference:.4f}\"]\n",
    "        )\n",
    "\n",
    "    print(tabulate(table, headers=headers, tablefmt=\"grid\"))"
   ]
  },
  {
   "cell_type": "code",
   "execution_count": 38,
   "metadata": {},
   "outputs": [
    {
     "name": "stdout",
     "output_type": "stream",
     "text": [
      "+-----------+--------------+-----------------+-------------+\n",
      "| Métrica   |   Model Novo |   Modelo Antigo |   Diferença |\n",
      "+===========+==============+=================+=============+\n",
      "| ROC_AUC   |       0.7211 |          0.6518 |      0.0693 |\n",
      "+-----------+--------------+-----------------+-------------+\n",
      "| Log-loss  |       8.3408 |         16.2141 |     -7.8733 |\n",
      "+-----------+--------------+-----------------+-------------+\n",
      "| Precision |       0.1324 |          0.0789 |      0.0535 |\n",
      "+-----------+--------------+-----------------+-------------+\n",
      "| Recall    |       0.6685 |          0.7646 |     -0.0961 |\n",
      "+-----------+--------------+-----------------+-------------+\n",
      "| F1        |       0.221  |          0.143  |      0.0779 |\n",
      "+-----------+--------------+-----------------+-------------+\n"
     ]
    }
   ],
   "source": [
    "compare_metrics(new_model_results, old_model_results)"
   ]
  },
  {
   "cell_type": "markdown",
   "metadata": {},
   "source": [
    "Para o limiar padrão de 0.5, vemos uma melhoria do novo modelo principalmente no que tange a precisão e a log loss, mas com perdas para o Recall. Como devemos capturar o maior número de transações fraudulentas existentes, a queda no Recall pode ser um fator de melhoria e análise de adoção ao novo modelo.  "
   ]
  },
  {
   "cell_type": "code",
   "execution_count": 39,
   "metadata": {},
   "outputs": [
    {
     "data": {
      "image/png": "[encoded data removed]",
      "text/plain": [
       "<Figure size 800x800 with 2 Axes>"
      ]
     },
     "metadata": {},
     "output_type": "display_data"
    }
   ],
   "source": [
    "fig, ax = plt.subplots(2, 1, figsize=(8, 8))\n",
    "\n",
    "# Access the axes directly\n",
    "sns.kdeplot(\n",
    "    data=X_test_evaluate[X_test_evaluate[\"fraude\"] == 1],\n",
    "    x=\"score_new_model\",\n",
    "    ax=ax[0],\n",
    "    color=\"b\",\n",
    "    fill=True,\n",
    ")\n",
    "sns.kdeplot(\n",
    "    data=X_test_evaluate[X_test_evaluate[\"fraude\"] == 1],\n",
    "    x=\"score_fraude_modelo\",\n",
    "    ax=ax[0],\n",
    "    color=\"r\",\n",
    "    fill=True,\n",
    ")\n",
    "\n",
    "sns.kdeplot(\n",
    "    data=X_test_evaluate[X_test_evaluate[\"fraude\"] == 0],\n",
    "    x=\"score_new_model\",\n",
    "    ax=ax[1],\n",
    "    color=\"b\",\n",
    "    fill=True,\n",
    ")\n",
    "sns.kdeplot(\n",
    "    data=X_test_evaluate[X_test_evaluate[\"fraude\"] == 0],\n",
    "    x=\"score_fraude_modelo\",\n",
    "    ax=ax[1],\n",
    "    color=\"r\",\n",
    "    fill=True,\n",
    ")\n",
    "\n",
    "# Add titles and labels\n",
    "ax[0].set_title(\"Distribuição dos scores (fraude = 1)\")\n",
    "ax[0].set_xlabel(\"Score\")\n",
    "ax[0].set_ylabel(\"Densidade\")\n",
    "\n",
    "ax[1].set_title(\"Distribuição dos scores (fraude = 0)\")\n",
    "ax[1].set_xlabel(\"Score\")\n",
    "ax[1].set_ylabel(\"Densidade\")\n",
    "\n",
    "plt.tight_layout()\n",
    "plt.show()"
   ]
  },
  {
   "cell_type": "markdown",
   "metadata": {},
   "source": [
    "Percebemos um comportamento mais homogêneo nas predições do novo modelo (em azul), classificando também em valores intermediários de score."
   ]
  },
  {
   "cell_type": "markdown",
   "metadata": {},
   "source": [
    "Vamos comparar diretamente o modelo nas métricas de negócio levantadas no notebook de entendimento do negócio. Vamos reaproveitar o código construído para achar o limiar ótimo que gere maior rendimento para a empresa. Agora aplicados unicamente aos dados de teste."
   ]
  },
  {
   "cell_type": "code",
   "execution_count": 40,
   "metadata": {},
   "outputs": [
    {
     "name": "stdout",
     "output_type": "stream",
     "text": [
      "c:\\Users\\renne\\Documents\\Estudos Dados\\Repositórios\\ML\\fraud-detection\n"
     ]
    },
    {
     "name": "stderr",
     "output_type": "stream",
     "text": [
      "c:\\Users\\renne\\anaconda3\\envs\\fraud-detection\\Lib\\site-packages\\IPython\\core\\magics\\osm.py:417: UserWarning: This is now an optional IPython functionality, setting dhist requires you to install the `pickleshare` library.\n",
      "  self.shell.db['dhist'] = compress_dhist(dhist)[-100:]\n"
     ]
    }
   ],
   "source": [
    "%pwd\n",
    "%cd ..\n",
    "from src.fraud_detection.utils.base_metrics import BaseMetrics\n"
   ]
  },
  {
   "cell_type": "code",
   "execution_count": 41,
   "metadata": {},
   "outputs": [
    {
     "name": "stdout",
     "output_type": "stream",
     "text": [
      "O limiar ótimo encontrado para a amostra é de: 79\n",
      "Ganhos por transações aprovadas: R$ 89287.09\n",
      "Prejuízos com transações fraudulentas aprovadas: R$ 33122.63\n",
      "Receita gerada com limiar ótimo: R$ 56164.46\n",
      "Taxa de pressão de entrada é de 4.909195053741703%\n",
      "Taxa de aprovação total é de 80.24%\n",
      "Taxa de declínio total é de 18.77%\n",
      "A precisão do modelo é de 15.31%\n",
      "A revocação do modelo é de 59.32%\n",
      "A taxa de falsos positivos é de 16.88%\n"
     ]
    }
   ],
   "source": [
    "bm_old = BaseMetrics(\n",
    "    X_test_evaluate, \"score_fraude_modelo\", \"fraude\", \"valor_compra\"\n",
    ")\n",
    "\n",
    "bm_old.find_best_threshold()\n",
    "bm_old.show_all_metrics()"
   ]
  },
  {
   "cell_type": "code",
   "execution_count": 42,
   "metadata": {},
   "outputs": [
    {
     "name": "stdout",
     "output_type": "stream",
     "text": [
      "O limiar ótimo encontrado para a amostra é de: 60\n",
      "Ganhos por transações aprovadas: R$ 92414.77\n",
      "Prejuízos com transações fraudulentas aprovadas: R$ 28970.02\n",
      "Receita gerada com limiar ótimo: R$ 63444.75\n",
      "Taxa de pressão de entrada é de 4.909195053741703%\n",
      "Taxa de aprovação total é de 85.50%\n",
      "Taxa de declínio total é de 14.50%\n",
      "A precisão do modelo é de 18.22%\n",
      "A revocação do modelo é de 53.81%\n",
      "A taxa de falsos positivos é de 12.47%\n"
     ]
    }
   ],
   "source": [
    "bm_new = BaseMetrics(\n",
    "    X_test_evaluate, \"score_new_model\", \"fraude\", \"valor_compra\"\n",
    ")\n",
    "\n",
    "bm_new.find_best_threshold()\n",
    "bm_new.show_all_metrics()"
   ]
  },
  {
   "cell_type": "markdown",
   "metadata": {},
   "source": [
    "---\n",
    "## Conclusão"
   ]
  },
  {
   "cell_type": "markdown",
   "metadata": {},
   "source": [
    "Com o novo modelo percebemos as seguintes alterações na predição de fraudes:\n",
    "\n",
    "- Melhoria da receita gerada para a amostra de **6754.69** para o intervalo da amostra.  \n",
    "- Comportamento do modelo se tornou mais arriscado (limiar foi de 72 para 65), deixando de resgatar mais fraudes, porém permitindo aprovar mais transações legítimas. Este limiar no novo modelo traz um aumento de precisão de **7.04%**, enquanto a revocação diminui em **19.54%**.  \n",
    "- Tal comportamento também foi refletido na diminuição de **13.43%** dos falsos positivos.  \n",
    "- Sem considerar os limiares ótimos calculados, a métrica de log loss caiu de 16.1307 para 9.2392.  \n",
    "\n",
    "Como dificuldades apresentadas na criação do modelo temos principalmente o desbalanceamento dos dados entre as classes, em que podemos seguir a experimentação ao aplicar técnicas de Oversampling para ps casos de fraude. Além disse o TargetEncoder talvez não seja a melhor alternativa para lidar com a grande cardinalidade dos valores de `categoria_produto`, se obtivessemos informações da hierarquia anterior esta poderia ter maior aplicabilidade ao modelo.\n",
    "\n",
    "A anonimização das informações também torna arriscado lidarmos com casos de possíveis outliers, a ausência de semântica não nos permite identificar se valores extremos podem ser possíveis.\n",
    "\n",
    "Considerando a melhoria da receita podemos concluir que o modelo possui um comportamento melhor para o negócio, porém a análise de fraudes em um cenário real é mais extensa e complexa, por exemplo, deveríamos levar em conta a experiência do usuário no que tange a lidar com o tratamento de uma transação fraudulenta, comparado a lidar com o declínio de transações, tais fatores e métricas podem gerar impacto nas reclamações e satisfações mesmo com uma métrica monetária vantajosa."
   ]
  }
 ],
 "metadata": {
  "kernelspec": {
   "display_name": "fraud-detection",
   "language": "python",
   "name": "python3"
  },
  "language_info": {
   "codemirror_mode": {
    "name": "ipython",
    "version": 3
   },
   "file_extension": ".py",
   "mimetype": "text/x-python",
   "name": "python",
   "nbconvert_exporter": "python",
   "pygments_lexer": "ipython3",
   "version": "3.11.11"
  }
 },
 "nbformat": 4,
 "nbformat_minor": 2
}
